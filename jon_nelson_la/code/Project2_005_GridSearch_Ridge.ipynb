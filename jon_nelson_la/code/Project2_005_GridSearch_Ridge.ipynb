{
 "cells": [
  {
   "cell_type": "code",
   "execution_count": 1,
   "metadata": {},
   "outputs": [
    {
     "name": "stderr",
     "output_type": "stream",
     "text": [
      "/Users/nelson/anaconda3/lib/python3.6/site-packages/sklearn/cross_validation.py:41: DeprecationWarning: This module was deprecated in version 0.18 in favor of the model_selection module into which all the refactored classes and functions are moved. Also note that the interface of the new CV iterators are different from that of this module. This module will be removed in 0.20.\n",
      "  \"This module will be removed in 0.20.\", DeprecationWarning)\n",
      "/Users/nelson/anaconda3/lib/python3.6/site-packages/sklearn/grid_search.py:42: DeprecationWarning: This module was deprecated in version 0.18 in favor of the model_selection module into which all the refactored classes and functions are moved. This module will be removed in 0.20.\n",
      "  DeprecationWarning)\n"
     ]
    }
   ],
   "source": [
    "import numpy as np\n",
    "import scipy.stats as stats\n",
    "import seaborn as sns\n",
    "import matplotlib.pyplot as plt\n",
    "import pandas as pd\n",
    "import pickle\n",
    "import csv\n",
    "\n",
    "from sklearn import linear_model\n",
    "from sklearn.pipeline import Pipeline\n",
    "from sklearn.linear_model import Lasso, LinearRegression, Ridge\n",
    "from sklearn.preprocessing import StandardScaler\n",
    "from sklearn.model_selection import train_test_split\n",
    "from sklearn.feature_selection import SelectKBest, VarianceThreshold, f_regression\n",
    "from sklearn.datasets import load_boston\n",
    "from sklearn.grid_search import GridSearchCV\n",
    "from sklearn.metrics import mean_squared_error, r2_score\n",
    "\n",
    "import statsmodels.api as sm\n",
    "import warnings\n",
    "warnings.filterwarnings('ignore')\n",
    "\n",
    "%config InlineBackend.figure_format = 'retina'\n",
    "%matplotlib inline\n",
    "\n",
    "plt.style.use('fivethirtyeight')\n",
    "np.random.seed(42)"
   ]
  },
  {
   "cell_type": "markdown",
   "metadata": {},
   "source": [
    "### GridSearch Regression Model\n",
    "\n",
    "GridSearchCV is the modeling technique that searches for the optimal hyperparameters provided during the instantiating of the model. Using its built in cross validation it can search over the grid of the provided hyperparameters to evaluate the performance of each and then use those parameters when making the predictions on the target variable (Sale Price).\n",
    "\n",
    "#### Variance Threshold\n",
    "\n",
    "The variance threshold is a feature selection technique that takes in specific variance amounts and will identify all feature variables that are not meeting the threshold and remove them. This allows the model to only perform predictions on features that have a variance up to a specific amount.\n",
    "\n",
    "#### KBest\n",
    "\n",
    "The KBest (or SelectKBest) is a feature selection technique that allows for the selction of a specific amount of feature variables to be used when performing the predictions on the target variable (Sale Price). Specifically, using the f_regression with KBest it will score the sekected features selected use the correlation of each feature to eachother to get the optimal features. \n",
    "\n",
    "#### Ridge\n",
    "\n",
    "Ridge regression is a regularized technique that allows the model to take on more weight related to variance. This technique is used when we have strong multicolinearity amougnst our selected feature variables. The Ridge regression imposes a penalty on the estimates to those that were identified as performing the worst in the model by taking the sum of the square coefficients. In this technique a feature will never be zeroed out but just be brought closer and closer to zero to help the model predictions."
   ]
  },
  {
   "cell_type": "markdown",
   "metadata": {},
   "source": [
    "### Step # 1: Load the Data\n",
    "\n",
    "Loading in the cleaned kaggle test data along with the **un-scaled** training data (to be explained later) to instantiate and predict the model."
   ]
  },
  {
   "cell_type": "code",
   "execution_count": 2,
   "metadata": {},
   "outputs": [],
   "source": [
    "ames_df_test = pd.read_csv('../data/ames_iowa_data_test_data_clean', index_col='Id')\n",
    "X_train_sc = pd.read_csv('../data/X_train_sc.csv', header=None)\n",
    "X_test_sc = pd.read_csv('../data/X_test_sc.csv', header=None)\n",
    "y_train = pd.read_csv('../data/y_train.csv', header=None)\n",
    "y_test = pd.read_csv('../data/y_test.csv', header=None)\n",
    "X_train = pd.read_csv('../data/X_train.csv', header=None)\n",
    "X_test = pd.read_csv('../data/X_test.csv', header=None)"
   ]
  },
  {
   "cell_type": "markdown",
   "metadata": {},
   "source": [
    "### Step # 2: Setup the Dummy Variables and Feature Dataframes\n",
    "\n",
    "Recreating the same features dataframe from the train data along with creatin the features dataframe for the kaggle test data. \n",
    "- These are dataframes that contain all of our feature variables as numeric data types"
   ]
  },
  {
   "cell_type": "code",
   "execution_count": 3,
   "metadata": {},
   "outputs": [],
   "source": [
    "ames_df_test_object = ames_df_test.select_dtypes(exclude=['int64', 'float64'])\n",
    "ames_df_numeric_test = ames_df_test.select_dtypes(exclude='object')\n",
    "ames_df_object_dummies_test = pd.get_dummies(ames_df_test_object, drop_first=True)\n",
    "ames_features_test = pd.concat([ames_df_numeric_test, ames_df_object_dummies_test], axis=1)"
   ]
  },
  {
   "cell_type": "code",
   "execution_count": 4,
   "metadata": {},
   "outputs": [],
   "source": [
    "ames_df = pd.read_csv('../data/ames_iowa_data_clean', index_col='Id')\n",
    "ames_df_objects = ames_df.select_dtypes(exclude=['int64', 'float64'])\n",
    "ames_df_numeric = ames_df.select_dtypes(exclude='object')\n",
    "ames_df_object_dummies = pd.get_dummies(ames_df_objects, drop_first=True)\n",
    "ames_features = pd.concat([ames_df_numeric, ames_df_object_dummies], axis=1)\n",
    "ames_features.drop('saleprice', axis=1, inplace=True)"
   ]
  },
  {
   "cell_type": "markdown",
   "metadata": {},
   "source": [
    "### Step # 3: Setup the Pipeline\n",
    "\n",
    "Using a technique called Pipeline we will setup the steps that we'd like to take for feature selection. The pipe will then be used with the GridSearch to perform the actual model predictions on the target variable (Sale Price).\n",
    "- Notice below we have the two feature selection options described above\n",
    "    - Variance Threshold\n",
    "    - KBest\n",
    "- We also have the regularization regression model selected\n",
    "    - Ridge\n",
    "- Also, note that we are asking the Pipeline to perform standard scaling which is why we are going to be passing in our **un-scaled** traing data.\n",
    "    - Standard Scaler"
   ]
  },
  {
   "cell_type": "code",
   "execution_count": 5,
   "metadata": {},
   "outputs": [],
   "source": [
    "pipe = Pipeline([\n",
    "    ('var_thresh', VarianceThreshold()),\n",
    "    ('ss', StandardScaler()),\n",
    "    ('kbest', SelectKBest(f_regression)),\n",
    "    ('ridge', Ridge())\n",
    "])"
   ]
  },
  {
   "cell_type": "code",
   "execution_count": 6,
   "metadata": {},
   "outputs": [],
   "source": [
    "params = {\n",
    "    'var_thresh__threshold': [0, .05],\n",
    "    'kbest__k': [30, 60],\n",
    "    'ridge__alpha': np.logspace(-3, 3, 7)\n",
    "}"
   ]
  },
  {
   "cell_type": "markdown",
   "metadata": {},
   "source": [
    "### Step # 4: Instantiate the GridSearch\n",
    "\n",
    "- Identifying a variable to instantiate GridSearch \n",
    "- Analyzing the numver of features that will be taken away with the provided threshold"
   ]
  },
  {
   "cell_type": "code",
   "execution_count": 7,
   "metadata": {},
   "outputs": [],
   "source": [
    "gs = GridSearchCV(pipe, params)"
   ]
  },
  {
   "cell_type": "code",
   "execution_count": 8,
   "metadata": {},
   "outputs": [
    {
     "data": {
      "text/plain": [
       "(1518, 213)"
      ]
     },
     "execution_count": 8,
     "metadata": {},
     "output_type": "execute_result"
    }
   ],
   "source": [
    "X_train.shape"
   ]
  },
  {
   "cell_type": "code",
   "execution_count": 9,
   "metadata": {},
   "outputs": [
    {
     "data": {
      "text/plain": [
       "122"
      ]
     },
     "execution_count": 9,
     "metadata": {},
     "output_type": "execute_result"
    }
   ],
   "source": [
    "(X_train.var() < .05).sum() ## Taking away 122 features with with current threashold"
   ]
  },
  {
   "cell_type": "markdown",
   "metadata": {},
   "source": [
    "### Step # 5: Fit and Score the Model\n",
    "\n",
    "The scores below show a pretty good scoring model in my opinion. This may still be a little overfit but this model is definitely scoring much better than our Linear Regression model."
   ]
  },
  {
   "cell_type": "code",
   "execution_count": 10,
   "metadata": {},
   "outputs": [
    {
     "data": {
      "text/plain": [
       "GridSearchCV(cv=None, error_score='raise',\n",
       "       estimator=Pipeline(memory=None,\n",
       "     steps=[('var_thresh', VarianceThreshold(threshold=0.0)), ('ss', StandardScaler(copy=True, with_mean=True, with_std=True)), ('kbest', SelectKBest(k=10, score_func=<function f_regression at 0x116643488>)), ('ridge', Ridge(alpha=1.0, copy_X=True, fit_intercept=True, max_iter=None,\n",
       "   normalize=False, random_state=None, solver='auto', tol=0.001))]),\n",
       "       fit_params={}, iid=True, n_jobs=1,\n",
       "       param_grid={'var_thresh__threshold': [0, 0.05], 'kbest__k': [30, 60], 'ridge__alpha': array([1.e-03, 1.e-02, 1.e-01, 1.e+00, 1.e+01, 1.e+02, 1.e+03])},\n",
       "       pre_dispatch='2*n_jobs', refit=True, scoring=None, verbose=0)"
      ]
     },
     "execution_count": 10,
     "metadata": {},
     "output_type": "execute_result"
    }
   ],
   "source": [
    "gs.fit(X_train, y_train)"
   ]
  },
  {
   "cell_type": "code",
   "execution_count": 11,
   "metadata": {},
   "outputs": [
    {
     "data": {
      "text/plain": [
       "0.8584493407839375"
      ]
     },
     "execution_count": 11,
     "metadata": {},
     "output_type": "execute_result"
    }
   ],
   "source": [
    "gs.score(X_train, y_train)"
   ]
  },
  {
   "cell_type": "code",
   "execution_count": 12,
   "metadata": {},
   "outputs": [
    {
     "data": {
      "text/plain": [
       "0.8799013606392992"
      ]
     },
     "execution_count": 12,
     "metadata": {},
     "output_type": "execute_result"
    }
   ],
   "source": [
    "gs.score(X_test, y_test)"
   ]
  },
  {
   "cell_type": "markdown",
   "metadata": {},
   "source": [
    "### Step # 6: Optimal GridSearch Metrics\n",
    "\n",
    "The next four cells will tell us what the GridSearch found to be the optimal selection for each of the follwing:\n",
    "- Optimal parameters provided\n",
    "- A boolean value of True for the optimal features that the variance threshold selected based on the provided parameter\n",
    "- A boolean value of Treu for the optimal features that the KBest with f_regression found based off of the features that met the variance threshold\n",
    "- The coefficient values for the best selected features from both the variance threshold and KBest selection using Ridge"
   ]
  },
  {
   "cell_type": "code",
   "execution_count": 13,
   "metadata": {},
   "outputs": [
    {
     "data": {
      "text/plain": [
       "{'kbest__k': 60, 'ridge__alpha': 100.0, 'var_thresh__threshold': 0}"
      ]
     },
     "execution_count": 13,
     "metadata": {},
     "output_type": "execute_result"
    }
   ],
   "source": [
    "gs.best_params_"
   ]
  },
  {
   "cell_type": "code",
   "execution_count": 14,
   "metadata": {},
   "outputs": [
    {
     "data": {
      "text/plain": [
       "array([ True,  True,  True,  True,  True,  True,  True,  True,  True,\n",
       "        True,  True,  True,  True,  True,  True,  True,  True,  True,\n",
       "        True,  True,  True,  True,  True,  True,  True,  True,  True,\n",
       "        True,  True,  True,  True,  True,  True,  True,  True,  True,\n",
       "        True,  True,  True,  True,  True,  True,  True,  True,  True,\n",
       "        True,  True,  True,  True,  True,  True,  True,  True,  True,\n",
       "        True,  True,  True,  True,  True,  True,  True,  True,  True,\n",
       "        True,  True,  True,  True,  True,  True,  True,  True,  True,\n",
       "        True,  True,  True,  True,  True,  True,  True,  True,  True,\n",
       "        True,  True,  True,  True,  True,  True,  True,  True,  True,\n",
       "        True,  True,  True,  True,  True,  True,  True,  True,  True,\n",
       "        True,  True,  True,  True,  True,  True,  True,  True,  True,\n",
       "        True,  True,  True,  True,  True,  True,  True,  True,  True,\n",
       "        True,  True,  True,  True,  True,  True,  True,  True,  True,\n",
       "        True,  True,  True,  True,  True,  True,  True,  True,  True,\n",
       "        True,  True,  True,  True,  True,  True,  True,  True,  True,\n",
       "        True,  True,  True,  True,  True,  True,  True,  True,  True,\n",
       "        True,  True,  True,  True,  True,  True,  True,  True,  True,\n",
       "        True,  True,  True,  True,  True,  True,  True,  True,  True,\n",
       "        True,  True,  True,  True,  True,  True,  True,  True,  True,\n",
       "        True,  True,  True,  True,  True,  True,  True,  True,  True,\n",
       "        True,  True, False,  True,  True,  True,  True,  True,  True,\n",
       "        True,  True,  True,  True,  True,  True,  True,  True,  True,\n",
       "        True,  True,  True,  True,  True,  True])"
      ]
     },
     "execution_count": 14,
     "metadata": {},
     "output_type": "execute_result"
    }
   ],
   "source": [
    "gs.best_estimator_.named_steps['var_thresh'].get_support()"
   ]
  },
  {
   "cell_type": "code",
   "execution_count": 15,
   "metadata": {},
   "outputs": [
    {
     "data": {
      "text/plain": [
       "array([False,  True,  True,  True, False,  True,  True,  True,  True,\n",
       "       False, False,  True,  True,  True,  True,  True, False,  True,\n",
       "        True, False, False,  True,  True,  True,  True,  True,  True,\n",
       "       False, False, False, False, False, False, False, False,  True,\n",
       "        True, False, False, False,  True,  True, False, False, False,\n",
       "       False, False, False, False, False, False, False, False, False,\n",
       "       False, False, False, False, False, False, False, False,  True,\n",
       "       False, False, False,  True, False, False,  True,  True,  True,\n",
       "       False, False, False, False,  True, False, False, False, False,\n",
       "       False, False, False, False, False, False, False, False, False,\n",
       "       False, False, False, False, False, False, False, False, False,\n",
       "       False, False, False,  True, False, False,  True, False,  True,\n",
       "       False, False, False, False, False, False, False, False, False,\n",
       "       False, False, False, False, False, False, False, False, False,\n",
       "        True,  True, False, False, False, False, False, False, False,\n",
       "       False, False, False, False, False,  True, False, False,  True,\n",
       "        True,  True, False,  True,  True,  True,  True, False, False,\n",
       "       False, False,  True, False,  True,  True, False,  True, False,\n",
       "        True, False, False, False, False, False, False, False, False,\n",
       "       False, False, False, False, False, False, False,  True,  True,\n",
       "       False, False, False,  True, False,  True,  True, False, False,\n",
       "       False, False, False, False,  True, False,  True, False,  True,\n",
       "       False, False, False,  True, False,  True, False, False, False,\n",
       "       False, False,  True, False,  True])"
      ]
     },
     "execution_count": 15,
     "metadata": {},
     "output_type": "execute_result"
    }
   ],
   "source": [
    "gs.best_estimator_.named_steps['kbest'].get_support()"
   ]
  },
  {
   "cell_type": "code",
   "execution_count": 16,
   "metadata": {},
   "outputs": [
    {
     "data": {
      "text/plain": [
       "array([[ -810.75107382,  4833.36745679, 16158.63642487,  1006.94300441,\n",
       "         5852.58769444,  2821.07994215,  2235.69789883,  2629.94752331,\n",
       "         2953.51378144,  6750.92453062,  8476.77625869,  4053.7020968 ,\n",
       "         4018.9933948 ,  1649.93712868,  1970.62457095,  6281.76627774,\n",
       "         5287.44135125,  3782.03995618,  1515.14968987,   115.08036553,\n",
       "         -677.87281219, -2889.99590684,  -717.43902061,  3277.89383147,\n",
       "         -669.32490071,  -307.84286029,  6269.39795427,  6944.87267829,\n",
       "         -790.60041717,  5828.70184384, -4389.03436521,  -825.38144534,\n",
       "         2065.09321487,  -563.50660446,  -248.949993  ,  2740.40484045,\n",
       "          238.53215295,  1491.63034371,  1773.34063092, -4483.45586714,\n",
       "        -6486.63430071,  -257.27823779,  2015.79739272, -5423.84300379,\n",
       "        -1402.4766499 ,  4326.12348485, -2008.68582845,  1655.13003188,\n",
       "        -2657.13122391,  2288.79689356,    40.28462207, -7763.27814648,\n",
       "        -9252.52478709,  3324.79443588,   834.40756017,  1320.14045726,\n",
       "        -3151.30784133,  3129.94001645,  2557.10460086,  -148.12754311]])"
      ]
     },
     "execution_count": 16,
     "metadata": {},
     "output_type": "execute_result"
    }
   ],
   "source": [
    "gs.best_estimator_.named_steps['ridge'].coef_"
   ]
  },
  {
   "cell_type": "markdown",
   "metadata": {},
   "source": [
    "#### Visualizing the Coefficients\n",
    "\n",
    "Below are the coefficient values for the 60 best selected features for this model. These are what most heavily influence our model predictions."
   ]
  },
  {
   "cell_type": "code",
   "execution_count": 17,
   "metadata": {
    "scrolled": false
   },
   "outputs": [
    {
     "data": {
      "text/html": [
       "<div>\n",
       "<style scoped>\n",
       "    .dataframe tbody tr th:only-of-type {\n",
       "        vertical-align: middle;\n",
       "    }\n",
       "\n",
       "    .dataframe tbody tr th {\n",
       "        vertical-align: top;\n",
       "    }\n",
       "\n",
       "    .dataframe thead th {\n",
       "        text-align: right;\n",
       "    }\n",
       "</style>\n",
       "<table border=\"1\" class=\"dataframe\">\n",
       "  <thead>\n",
       "    <tr style=\"text-align: right;\">\n",
       "      <th></th>\n",
       "      <th>Coef Weights</th>\n",
       "    </tr>\n",
       "  </thead>\n",
       "  <tbody>\n",
       "    <tr>\n",
       "      <th>lot_frontage</th>\n",
       "      <td>-810.751074</td>\n",
       "    </tr>\n",
       "    <tr>\n",
       "      <th>lot_area</th>\n",
       "      <td>4833.367457</td>\n",
       "    </tr>\n",
       "    <tr>\n",
       "      <th>overall_qual</th>\n",
       "      <td>16158.636425</td>\n",
       "    </tr>\n",
       "    <tr>\n",
       "      <th>year_built</th>\n",
       "      <td>1006.943004</td>\n",
       "    </tr>\n",
       "    <tr>\n",
       "      <th>year_remod/add</th>\n",
       "      <td>5852.587694</td>\n",
       "    </tr>\n",
       "    <tr>\n",
       "      <th>mas_vnr_area</th>\n",
       "      <td>2821.079942</td>\n",
       "    </tr>\n",
       "    <tr>\n",
       "      <th>bsmtfin_sf_1</th>\n",
       "      <td>2235.697899</td>\n",
       "    </tr>\n",
       "    <tr>\n",
       "      <th>total_bsmt_sf</th>\n",
       "      <td>2629.947523</td>\n",
       "    </tr>\n",
       "    <tr>\n",
       "      <th>1st_flr_sf</th>\n",
       "      <td>2953.513781</td>\n",
       "    </tr>\n",
       "    <tr>\n",
       "      <th>2nd_flr_sf</th>\n",
       "      <td>6750.924531</td>\n",
       "    </tr>\n",
       "    <tr>\n",
       "      <th>gr_liv_area</th>\n",
       "      <td>8476.776259</td>\n",
       "    </tr>\n",
       "    <tr>\n",
       "      <th>bsmt_full_bath</th>\n",
       "      <td>4053.702097</td>\n",
       "    </tr>\n",
       "    <tr>\n",
       "      <th>full_bath</th>\n",
       "      <td>4018.993395</td>\n",
       "    </tr>\n",
       "    <tr>\n",
       "      <th>half_bath</th>\n",
       "      <td>1649.937129</td>\n",
       "    </tr>\n",
       "    <tr>\n",
       "      <th>totrms_abvgrd</th>\n",
       "      <td>1970.624571</td>\n",
       "    </tr>\n",
       "    <tr>\n",
       "      <th>fireplaces</th>\n",
       "      <td>6281.766278</td>\n",
       "    </tr>\n",
       "    <tr>\n",
       "      <th>garage_cars</th>\n",
       "      <td>5287.441351</td>\n",
       "    </tr>\n",
       "    <tr>\n",
       "      <th>garage_area</th>\n",
       "      <td>3782.039956</td>\n",
       "    </tr>\n",
       "    <tr>\n",
       "      <th>wood_deck_sf</th>\n",
       "      <td>1515.149690</td>\n",
       "    </tr>\n",
       "    <tr>\n",
       "      <th>open_porch_sf</th>\n",
       "      <td>115.080366</td>\n",
       "    </tr>\n",
       "    <tr>\n",
       "      <th>ms_zoning_RL</th>\n",
       "      <td>-677.872812</td>\n",
       "    </tr>\n",
       "    <tr>\n",
       "      <th>ms_zoning_RM</th>\n",
       "      <td>-2889.995907</td>\n",
       "    </tr>\n",
       "    <tr>\n",
       "      <th>lot_shape_Reg</th>\n",
       "      <td>-717.439021</td>\n",
       "    </tr>\n",
       "    <tr>\n",
       "      <th>land_contour_HLS</th>\n",
       "      <td>3277.893831</td>\n",
       "    </tr>\n",
       "    <tr>\n",
       "      <th>neighborhood_IDOTRR</th>\n",
       "      <td>-669.324901</td>\n",
       "    </tr>\n",
       "    <tr>\n",
       "      <th>neighborhood_NAmes</th>\n",
       "      <td>-307.842860</td>\n",
       "    </tr>\n",
       "    <tr>\n",
       "      <th>neighborhood_NoRidge</th>\n",
       "      <td>6269.397954</td>\n",
       "    </tr>\n",
       "    <tr>\n",
       "      <th>neighborhood_NridgHt</th>\n",
       "      <td>6944.872678</td>\n",
       "    </tr>\n",
       "    <tr>\n",
       "      <th>neighborhood_OldTown</th>\n",
       "      <td>-790.600417</td>\n",
       "    </tr>\n",
       "    <tr>\n",
       "      <th>neighborhood_StoneBr</th>\n",
       "      <td>5828.701844</td>\n",
       "    </tr>\n",
       "    <tr>\n",
       "      <th>house_style_2Story</th>\n",
       "      <td>-4389.034365</td>\n",
       "    </tr>\n",
       "    <tr>\n",
       "      <th>roof_style_Gable</th>\n",
       "      <td>-825.381445</td>\n",
       "    </tr>\n",
       "    <tr>\n",
       "      <th>roof_style_Hip</th>\n",
       "      <td>2065.093215</td>\n",
       "    </tr>\n",
       "    <tr>\n",
       "      <th>exterior_1st_VinylSd</th>\n",
       "      <td>-563.506604</td>\n",
       "    </tr>\n",
       "    <tr>\n",
       "      <th>exterior_1st_Wd Sdng</th>\n",
       "      <td>-248.949993</td>\n",
       "    </tr>\n",
       "    <tr>\n",
       "      <th>exterior_2nd_VinylSd</th>\n",
       "      <td>2740.404840</td>\n",
       "    </tr>\n",
       "    <tr>\n",
       "      <th>mas_vnr_type_BrkFace</th>\n",
       "      <td>238.532153</td>\n",
       "    </tr>\n",
       "    <tr>\n",
       "      <th>mas_vnr_type_None</th>\n",
       "      <td>1491.630344</td>\n",
       "    </tr>\n",
       "    <tr>\n",
       "      <th>mas_vnr_type_Stone</th>\n",
       "      <td>1773.340631</td>\n",
       "    </tr>\n",
       "    <tr>\n",
       "      <th>exter_qual_Gd</th>\n",
       "      <td>-4483.455867</td>\n",
       "    </tr>\n",
       "    <tr>\n",
       "      <th>exter_qual_TA</th>\n",
       "      <td>-6486.634301</td>\n",
       "    </tr>\n",
       "    <tr>\n",
       "      <th>foundation_CBlock</th>\n",
       "      <td>-257.278238</td>\n",
       "    </tr>\n",
       "    <tr>\n",
       "      <th>foundation_PConc</th>\n",
       "      <td>2015.797393</td>\n",
       "    </tr>\n",
       "    <tr>\n",
       "      <th>bsmt_qual_Gd</th>\n",
       "      <td>-5423.843004</td>\n",
       "    </tr>\n",
       "    <tr>\n",
       "      <th>bsmt_qual_TA</th>\n",
       "      <td>-1402.476650</td>\n",
       "    </tr>\n",
       "    <tr>\n",
       "      <th>bsmt_exposure_Gd</th>\n",
       "      <td>4326.123485</td>\n",
       "    </tr>\n",
       "    <tr>\n",
       "      <th>bsmt_exposure_No</th>\n",
       "      <td>-2008.685828</td>\n",
       "    </tr>\n",
       "    <tr>\n",
       "      <th>bsmtfin_type_1_GLQ</th>\n",
       "      <td>1655.130032</td>\n",
       "    </tr>\n",
       "    <tr>\n",
       "      <th>heating_qc_TA</th>\n",
       "      <td>-2657.131224</td>\n",
       "    </tr>\n",
       "    <tr>\n",
       "      <th>central_air_Y</th>\n",
       "      <td>2288.796894</td>\n",
       "    </tr>\n",
       "    <tr>\n",
       "      <th>electrical_SBrkr</th>\n",
       "      <td>40.284622</td>\n",
       "    </tr>\n",
       "    <tr>\n",
       "      <th>kitchen_qual_Gd</th>\n",
       "      <td>-7763.278146</td>\n",
       "    </tr>\n",
       "    <tr>\n",
       "      <th>kitchen_qual_TA</th>\n",
       "      <td>-9252.524787</td>\n",
       "    </tr>\n",
       "    <tr>\n",
       "      <th>garage_type_Attchd</th>\n",
       "      <td>3324.794436</td>\n",
       "    </tr>\n",
       "    <tr>\n",
       "      <th>garage_type_BuiltIn</th>\n",
       "      <td>834.407560</td>\n",
       "    </tr>\n",
       "    <tr>\n",
       "      <th>garage_type_Detchd</th>\n",
       "      <td>1320.140457</td>\n",
       "    </tr>\n",
       "    <tr>\n",
       "      <th>garage_qual_TA</th>\n",
       "      <td>-3151.307841</td>\n",
       "    </tr>\n",
       "    <tr>\n",
       "      <th>paved_drive_Y</th>\n",
       "      <td>3129.940016</td>\n",
       "    </tr>\n",
       "    <tr>\n",
       "      <th>sale_type_New</th>\n",
       "      <td>2557.104601</td>\n",
       "    </tr>\n",
       "    <tr>\n",
       "      <th>sale_type_WD</th>\n",
       "      <td>-148.127543</td>\n",
       "    </tr>\n",
       "  </tbody>\n",
       "</table>\n",
       "</div>"
      ],
      "text/plain": [
       "                      Coef Weights\n",
       "lot_frontage           -810.751074\n",
       "lot_area               4833.367457\n",
       "overall_qual          16158.636425\n",
       "year_built             1006.943004\n",
       "year_remod/add         5852.587694\n",
       "mas_vnr_area           2821.079942\n",
       "bsmtfin_sf_1           2235.697899\n",
       "total_bsmt_sf          2629.947523\n",
       "1st_flr_sf             2953.513781\n",
       "2nd_flr_sf             6750.924531\n",
       "gr_liv_area            8476.776259\n",
       "bsmt_full_bath         4053.702097\n",
       "full_bath              4018.993395\n",
       "half_bath              1649.937129\n",
       "totrms_abvgrd          1970.624571\n",
       "fireplaces             6281.766278\n",
       "garage_cars            5287.441351\n",
       "garage_area            3782.039956\n",
       "wood_deck_sf           1515.149690\n",
       "open_porch_sf           115.080366\n",
       "ms_zoning_RL           -677.872812\n",
       "ms_zoning_RM          -2889.995907\n",
       "lot_shape_Reg          -717.439021\n",
       "land_contour_HLS       3277.893831\n",
       "neighborhood_IDOTRR    -669.324901\n",
       "neighborhood_NAmes     -307.842860\n",
       "neighborhood_NoRidge   6269.397954\n",
       "neighborhood_NridgHt   6944.872678\n",
       "neighborhood_OldTown   -790.600417\n",
       "neighborhood_StoneBr   5828.701844\n",
       "house_style_2Story    -4389.034365\n",
       "roof_style_Gable       -825.381445\n",
       "roof_style_Hip         2065.093215\n",
       "exterior_1st_VinylSd   -563.506604\n",
       "exterior_1st_Wd Sdng   -248.949993\n",
       "exterior_2nd_VinylSd   2740.404840\n",
       "mas_vnr_type_BrkFace    238.532153\n",
       "mas_vnr_type_None      1491.630344\n",
       "mas_vnr_type_Stone     1773.340631\n",
       "exter_qual_Gd         -4483.455867\n",
       "exter_qual_TA         -6486.634301\n",
       "foundation_CBlock      -257.278238\n",
       "foundation_PConc       2015.797393\n",
       "bsmt_qual_Gd          -5423.843004\n",
       "bsmt_qual_TA          -1402.476650\n",
       "bsmt_exposure_Gd       4326.123485\n",
       "bsmt_exposure_No      -2008.685828\n",
       "bsmtfin_type_1_GLQ     1655.130032\n",
       "heating_qc_TA         -2657.131224\n",
       "central_air_Y          2288.796894\n",
       "electrical_SBrkr         40.284622\n",
       "kitchen_qual_Gd       -7763.278146\n",
       "kitchen_qual_TA       -9252.524787\n",
       "garage_type_Attchd     3324.794436\n",
       "garage_type_BuiltIn     834.407560\n",
       "garage_type_Detchd     1320.140457\n",
       "garage_qual_TA        -3151.307841\n",
       "paved_drive_Y          3129.940016\n",
       "sale_type_New          2557.104601\n",
       "sale_type_WD           -148.127543"
      ]
     },
     "execution_count": 17,
     "metadata": {},
     "output_type": "execute_result"
    }
   ],
   "source": [
    "columns = ames_features.columns\n",
    "columns = columns[gs.best_estimator_.named_steps['var_thresh'].get_support()]\n",
    "columns = columns[gs.best_estimator_.named_steps['kbest'].get_support()]\n",
    "\n",
    "coef_weights = pd.DataFrame(gs.best_estimator_.named_steps['ridge'].coef_, \n",
    "                            columns = columns, index=['Coef Weights']).T\n",
    "coef_weights"
   ]
  },
  {
   "cell_type": "code",
   "execution_count": 18,
   "metadata": {},
   "outputs": [],
   "source": [
    "coef_weights.to_csv('../data/coef_gs_ridge')"
   ]
  },
  {
   "cell_type": "markdown",
   "metadata": {},
   "source": [
    "### Step # 7: Predict the Model\n",
    "\n",
    "Using the trained scaled testing data predict the target variable (Sale Price)."
   ]
  },
  {
   "cell_type": "code",
   "execution_count": 19,
   "metadata": {},
   "outputs": [],
   "source": [
    "pred_gs = gs.predict(X_test)"
   ]
  },
  {
   "cell_type": "code",
   "execution_count": 20,
   "metadata": {},
   "outputs": [
    {
     "data": {
      "text/plain": [
       "28202.6895064714"
      ]
     },
     "execution_count": 20,
     "metadata": {},
     "output_type": "execute_result"
    }
   ],
   "source": [
    "np.sqrt(mean_squared_error(y_test, pred_gs)) ## RMSE (Kaggle RMSE: 40012.65025)"
   ]
  },
  {
   "cell_type": "code",
   "execution_count": 21,
   "metadata": {},
   "outputs": [
    {
     "data": {
      "text/plain": [
       "(507, 1)"
      ]
     },
     "execution_count": 21,
     "metadata": {},
     "output_type": "execute_result"
    }
   ],
   "source": [
    "pred_gs.shape"
   ]
  },
  {
   "cell_type": "code",
   "execution_count": 22,
   "metadata": {},
   "outputs": [
    {
     "data": {
      "text/plain": [
       "(507, 1)"
      ]
     },
     "execution_count": 22,
     "metadata": {},
     "output_type": "execute_result"
    }
   ],
   "source": [
    "y_test.shape"
   ]
  },
  {
   "cell_type": "code",
   "execution_count": 23,
   "metadata": {},
   "outputs": [
    {
     "data": {
      "image/png": "[encoded data removed]",
      "text/plain": [
       "<Figure size 864x576 with 1 Axes>"
      ]
     },
     "metadata": {
      "image/png": {
       "height": 502,
       "width": 833
      }
     },
     "output_type": "display_data"
    }
   ],
   "source": [
    "plt.figure(figsize=(12,8))\n",
    "sns.set(font_scale=1.3)\n",
    "sns.regplot(pred_gs, y_test[0] , color='red')\n",
    "plt.title(\"GridSearch Ridge Predictions\")\n",
    "plt.xlabel(\"Predicted Values\")\n",
    "plt.ylabel(\"Actual Values\")\n",
    "plt.tight_layout;\n",
    "plt.savefig('../plots/model_pred')"
   ]
  },
  {
   "cell_type": "markdown",
   "metadata": {},
   "source": [
    "#### Interpretation\n",
    "\n",
    "A much better looking model prediction than the Linear Regression model. The visual shows a bit of overfitting but defintely can be argued as a very well predicted line. We can interpret the Root Mean Squared Error metric of this model as basically saying that we believe on average our scores to be between +/- 28202.6895064714 which is very good but there could be room for improvement."
   ]
  },
  {
   "cell_type": "markdown",
   "metadata": {},
   "source": [
    "### GridSearch Kaggle Predictions\n",
    "\n",
    "The below is my submission to the Kaggle competition for this GridSearch model"
   ]
  },
  {
   "cell_type": "code",
   "execution_count": 30,
   "metadata": {},
   "outputs": [
    {
     "data": {
      "text/plain": [
       "set()"
      ]
     },
     "execution_count": 30,
     "metadata": {},
     "output_type": "execute_result"
    }
   ],
   "source": [
    "diff_cols = set(ames_features.columns).difference(ames_features_test.columns)\n",
    "diff_cols"
   ]
  },
  {
   "cell_type": "code",
   "execution_count": 32,
   "metadata": {},
   "outputs": [
    {
     "data": {
      "text/html": [
       "<div>\n",
       "<style scoped>\n",
       "    .dataframe tbody tr th:only-of-type {\n",
       "        vertical-align: middle;\n",
       "    }\n",
       "\n",
       "    .dataframe tbody tr th {\n",
       "        vertical-align: top;\n",
       "    }\n",
       "\n",
       "    .dataframe thead th {\n",
       "        text-align: right;\n",
       "    }\n",
       "</style>\n",
       "<table border=\"1\" class=\"dataframe\">\n",
       "  <thead>\n",
       "    <tr style=\"text-align: right;\">\n",
       "      <th></th>\n",
       "      <th>ms_subclass</th>\n",
       "      <th>lot_frontage</th>\n",
       "      <th>lot_area</th>\n",
       "      <th>overall_qual</th>\n",
       "      <th>overall_cond</th>\n",
       "      <th>year_built</th>\n",
       "      <th>year_remod/add</th>\n",
       "      <th>mas_vnr_area</th>\n",
       "      <th>bsmtfin_sf_1</th>\n",
       "      <th>bsmtfin_sf_2</th>\n",
       "      <th>...</th>\n",
       "      <th>functional_Sev</th>\n",
       "      <th>neighborhood_GrnHill</th>\n",
       "      <th>condition_2_RRAn</th>\n",
       "      <th>electrical_Mix</th>\n",
       "      <th>neighborhood_Landmrk</th>\n",
       "      <th>heating_OthW</th>\n",
       "      <th>functional_Sal</th>\n",
       "      <th>roof_matl_CompShg</th>\n",
       "      <th>ms_zoning_C (all)</th>\n",
       "      <th>exterior_1st_CBlock</th>\n",
       "    </tr>\n",
       "    <tr>\n",
       "      <th>Id</th>\n",
       "      <th></th>\n",
       "      <th></th>\n",
       "      <th></th>\n",
       "      <th></th>\n",
       "      <th></th>\n",
       "      <th></th>\n",
       "      <th></th>\n",
       "      <th></th>\n",
       "      <th></th>\n",
       "      <th></th>\n",
       "      <th></th>\n",
       "      <th></th>\n",
       "      <th></th>\n",
       "      <th></th>\n",
       "      <th></th>\n",
       "      <th></th>\n",
       "      <th></th>\n",
       "      <th></th>\n",
       "      <th></th>\n",
       "      <th></th>\n",
       "      <th></th>\n",
       "    </tr>\n",
       "  </thead>\n",
       "  <tbody>\n",
       "    <tr>\n",
       "      <th>2658</th>\n",
       "      <td>190</td>\n",
       "      <td>69.000000</td>\n",
       "      <td>9142</td>\n",
       "      <td>6</td>\n",
       "      <td>8</td>\n",
       "      <td>1910</td>\n",
       "      <td>1950</td>\n",
       "      <td>0.0</td>\n",
       "      <td>0.0</td>\n",
       "      <td>0.0</td>\n",
       "      <td>...</td>\n",
       "      <td>0</td>\n",
       "      <td>0</td>\n",
       "      <td>0</td>\n",
       "      <td>0</td>\n",
       "      <td>0</td>\n",
       "      <td>0</td>\n",
       "      <td>0</td>\n",
       "      <td>0</td>\n",
       "      <td>0</td>\n",
       "      <td>0</td>\n",
       "    </tr>\n",
       "    <tr>\n",
       "      <th>2718</th>\n",
       "      <td>90</td>\n",
       "      <td>69.630042</td>\n",
       "      <td>9662</td>\n",
       "      <td>5</td>\n",
       "      <td>4</td>\n",
       "      <td>1977</td>\n",
       "      <td>1977</td>\n",
       "      <td>0.0</td>\n",
       "      <td>0.0</td>\n",
       "      <td>0.0</td>\n",
       "      <td>...</td>\n",
       "      <td>0</td>\n",
       "      <td>0</td>\n",
       "      <td>0</td>\n",
       "      <td>0</td>\n",
       "      <td>0</td>\n",
       "      <td>0</td>\n",
       "      <td>0</td>\n",
       "      <td>0</td>\n",
       "      <td>0</td>\n",
       "      <td>0</td>\n",
       "    </tr>\n",
       "    <tr>\n",
       "      <th>2414</th>\n",
       "      <td>60</td>\n",
       "      <td>58.000000</td>\n",
       "      <td>17104</td>\n",
       "      <td>7</td>\n",
       "      <td>5</td>\n",
       "      <td>2006</td>\n",
       "      <td>2006</td>\n",
       "      <td>0.0</td>\n",
       "      <td>554.0</td>\n",
       "      <td>0.0</td>\n",
       "      <td>...</td>\n",
       "      <td>0</td>\n",
       "      <td>0</td>\n",
       "      <td>0</td>\n",
       "      <td>0</td>\n",
       "      <td>0</td>\n",
       "      <td>0</td>\n",
       "      <td>0</td>\n",
       "      <td>0</td>\n",
       "      <td>0</td>\n",
       "      <td>0</td>\n",
       "    </tr>\n",
       "    <tr>\n",
       "      <th>1989</th>\n",
       "      <td>30</td>\n",
       "      <td>60.000000</td>\n",
       "      <td>8520</td>\n",
       "      <td>5</td>\n",
       "      <td>6</td>\n",
       "      <td>1923</td>\n",
       "      <td>2006</td>\n",
       "      <td>0.0</td>\n",
       "      <td>0.0</td>\n",
       "      <td>0.0</td>\n",
       "      <td>...</td>\n",
       "      <td>0</td>\n",
       "      <td>0</td>\n",
       "      <td>0</td>\n",
       "      <td>0</td>\n",
       "      <td>0</td>\n",
       "      <td>0</td>\n",
       "      <td>0</td>\n",
       "      <td>0</td>\n",
       "      <td>0</td>\n",
       "      <td>0</td>\n",
       "    </tr>\n",
       "    <tr>\n",
       "      <th>625</th>\n",
       "      <td>20</td>\n",
       "      <td>69.630042</td>\n",
       "      <td>9500</td>\n",
       "      <td>6</td>\n",
       "      <td>5</td>\n",
       "      <td>1963</td>\n",
       "      <td>1963</td>\n",
       "      <td>247.0</td>\n",
       "      <td>609.0</td>\n",
       "      <td>0.0</td>\n",
       "      <td>...</td>\n",
       "      <td>0</td>\n",
       "      <td>0</td>\n",
       "      <td>0</td>\n",
       "      <td>0</td>\n",
       "      <td>0</td>\n",
       "      <td>0</td>\n",
       "      <td>0</td>\n",
       "      <td>0</td>\n",
       "      <td>0</td>\n",
       "      <td>0</td>\n",
       "    </tr>\n",
       "  </tbody>\n",
       "</table>\n",
       "<p>5 rows × 222 columns</p>\n",
       "</div>"
      ],
      "text/plain": [
       "      ms_subclass  lot_frontage  lot_area  overall_qual  overall_cond  \\\n",
       "Id                                                                      \n",
       "2658          190     69.000000      9142             6             8   \n",
       "2718           90     69.630042      9662             5             4   \n",
       "2414           60     58.000000     17104             7             5   \n",
       "1989           30     60.000000      8520             5             6   \n",
       "625            20     69.630042      9500             6             5   \n",
       "\n",
       "      year_built  year_remod/add  mas_vnr_area  bsmtfin_sf_1  bsmtfin_sf_2  \\\n",
       "Id                                                                           \n",
       "2658        1910            1950           0.0           0.0           0.0   \n",
       "2718        1977            1977           0.0           0.0           0.0   \n",
       "2414        2006            2006           0.0         554.0           0.0   \n",
       "1989        1923            2006           0.0           0.0           0.0   \n",
       "625         1963            1963         247.0         609.0           0.0   \n",
       "\n",
       "             ...           functional_Sev  neighborhood_GrnHill  \\\n",
       "Id           ...                                                  \n",
       "2658         ...                        0                     0   \n",
       "2718         ...                        0                     0   \n",
       "2414         ...                        0                     0   \n",
       "1989         ...                        0                     0   \n",
       "625          ...                        0                     0   \n",
       "\n",
       "      condition_2_RRAn  electrical_Mix  neighborhood_Landmrk  heating_OthW  \\\n",
       "Id                                                                           \n",
       "2658                 0               0                     0             0   \n",
       "2718                 0               0                     0             0   \n",
       "2414                 0               0                     0             0   \n",
       "1989                 0               0                     0             0   \n",
       "625                  0               0                     0             0   \n",
       "\n",
       "      functional_Sal  roof_matl_CompShg  ms_zoning_C (all)  \\\n",
       "Id                                                           \n",
       "2658               0                  0                  0   \n",
       "2718               0                  0                  0   \n",
       "2414               0                  0                  0   \n",
       "1989               0                  0                  0   \n",
       "625                0                  0                  0   \n",
       "\n",
       "      exterior_1st_CBlock  \n",
       "Id                         \n",
       "2658                    0  \n",
       "2718                    0  \n",
       "2414                    0  \n",
       "1989                    0  \n",
       "625                     0  \n",
       "\n",
       "[5 rows x 222 columns]"
      ]
     },
     "execution_count": 32,
     "metadata": {},
     "output_type": "execute_result"
    }
   ],
   "source": [
    "for col in diff_cols:\n",
    "    ames_features_test[col]=0\n",
    "ames_features_test.head()"
   ]
  },
  {
   "cell_type": "code",
   "execution_count": 35,
   "metadata": {},
   "outputs": [
    {
     "data": {
      "text/plain": [
       "Index(['ms_subclass', 'lot_frontage', 'lot_area', 'overall_qual',\n",
       "       'overall_cond', 'year_built', 'year_remod/add', 'mas_vnr_area',\n",
       "       'bsmtfin_sf_1', 'bsmtfin_sf_2',\n",
       "       ...\n",
       "       'paved_drive_P', 'paved_drive_Y', 'sale_type_CWD', 'sale_type_Con',\n",
       "       'sale_type_ConLD', 'sale_type_ConLI', 'sale_type_ConLw',\n",
       "       'sale_type_New', 'sale_type_Oth', 'sale_type_WD '],\n",
       "      dtype='object', length=213)"
      ]
     },
     "execution_count": 35,
     "metadata": {},
     "output_type": "execute_result"
    }
   ],
   "source": [
    "ames_features.columns"
   ]
  },
  {
   "cell_type": "code",
   "execution_count": 33,
   "metadata": {},
   "outputs": [
    {
     "data": {
      "text/html": [
       "<div>\n",
       "<style scoped>\n",
       "    .dataframe tbody tr th:only-of-type {\n",
       "        vertical-align: middle;\n",
       "    }\n",
       "\n",
       "    .dataframe tbody tr th {\n",
       "        vertical-align: top;\n",
       "    }\n",
       "\n",
       "    .dataframe thead th {\n",
       "        text-align: right;\n",
       "    }\n",
       "</style>\n",
       "<table border=\"1\" class=\"dataframe\">\n",
       "  <thead>\n",
       "    <tr style=\"text-align: right;\">\n",
       "      <th></th>\n",
       "      <th>ms_subclass</th>\n",
       "      <th>lot_frontage</th>\n",
       "      <th>lot_area</th>\n",
       "      <th>overall_qual</th>\n",
       "      <th>overall_cond</th>\n",
       "      <th>year_built</th>\n",
       "      <th>year_remod/add</th>\n",
       "      <th>mas_vnr_area</th>\n",
       "      <th>bsmtfin_sf_1</th>\n",
       "      <th>bsmtfin_sf_2</th>\n",
       "      <th>...</th>\n",
       "      <th>paved_drive_P</th>\n",
       "      <th>paved_drive_Y</th>\n",
       "      <th>sale_type_CWD</th>\n",
       "      <th>sale_type_Con</th>\n",
       "      <th>sale_type_ConLD</th>\n",
       "      <th>sale_type_ConLI</th>\n",
       "      <th>sale_type_ConLw</th>\n",
       "      <th>sale_type_New</th>\n",
       "      <th>sale_type_Oth</th>\n",
       "      <th>sale_type_WD</th>\n",
       "    </tr>\n",
       "    <tr>\n",
       "      <th>Id</th>\n",
       "      <th></th>\n",
       "      <th></th>\n",
       "      <th></th>\n",
       "      <th></th>\n",
       "      <th></th>\n",
       "      <th></th>\n",
       "      <th></th>\n",
       "      <th></th>\n",
       "      <th></th>\n",
       "      <th></th>\n",
       "      <th></th>\n",
       "      <th></th>\n",
       "      <th></th>\n",
       "      <th></th>\n",
       "      <th></th>\n",
       "      <th></th>\n",
       "      <th></th>\n",
       "      <th></th>\n",
       "      <th></th>\n",
       "      <th></th>\n",
       "      <th></th>\n",
       "    </tr>\n",
       "  </thead>\n",
       "  <tbody>\n",
       "    <tr>\n",
       "      <th>2658</th>\n",
       "      <td>190</td>\n",
       "      <td>69.000000</td>\n",
       "      <td>9142</td>\n",
       "      <td>6</td>\n",
       "      <td>8</td>\n",
       "      <td>1910</td>\n",
       "      <td>1950</td>\n",
       "      <td>0.0</td>\n",
       "      <td>0.0</td>\n",
       "      <td>0.0</td>\n",
       "      <td>...</td>\n",
       "      <td>0</td>\n",
       "      <td>1</td>\n",
       "      <td>0</td>\n",
       "      <td>0</td>\n",
       "      <td>0</td>\n",
       "      <td>0</td>\n",
       "      <td>0</td>\n",
       "      <td>0</td>\n",
       "      <td>0</td>\n",
       "      <td>1</td>\n",
       "    </tr>\n",
       "    <tr>\n",
       "      <th>2718</th>\n",
       "      <td>90</td>\n",
       "      <td>69.630042</td>\n",
       "      <td>9662</td>\n",
       "      <td>5</td>\n",
       "      <td>4</td>\n",
       "      <td>1977</td>\n",
       "      <td>1977</td>\n",
       "      <td>0.0</td>\n",
       "      <td>0.0</td>\n",
       "      <td>0.0</td>\n",
       "      <td>...</td>\n",
       "      <td>0</td>\n",
       "      <td>1</td>\n",
       "      <td>0</td>\n",
       "      <td>0</td>\n",
       "      <td>0</td>\n",
       "      <td>0</td>\n",
       "      <td>0</td>\n",
       "      <td>0</td>\n",
       "      <td>0</td>\n",
       "      <td>1</td>\n",
       "    </tr>\n",
       "    <tr>\n",
       "      <th>2414</th>\n",
       "      <td>60</td>\n",
       "      <td>58.000000</td>\n",
       "      <td>17104</td>\n",
       "      <td>7</td>\n",
       "      <td>5</td>\n",
       "      <td>2006</td>\n",
       "      <td>2006</td>\n",
       "      <td>0.0</td>\n",
       "      <td>554.0</td>\n",
       "      <td>0.0</td>\n",
       "      <td>...</td>\n",
       "      <td>0</td>\n",
       "      <td>1</td>\n",
       "      <td>0</td>\n",
       "      <td>0</td>\n",
       "      <td>0</td>\n",
       "      <td>0</td>\n",
       "      <td>0</td>\n",
       "      <td>1</td>\n",
       "      <td>0</td>\n",
       "      <td>0</td>\n",
       "    </tr>\n",
       "    <tr>\n",
       "      <th>1989</th>\n",
       "      <td>30</td>\n",
       "      <td>60.000000</td>\n",
       "      <td>8520</td>\n",
       "      <td>5</td>\n",
       "      <td>6</td>\n",
       "      <td>1923</td>\n",
       "      <td>2006</td>\n",
       "      <td>0.0</td>\n",
       "      <td>0.0</td>\n",
       "      <td>0.0</td>\n",
       "      <td>...</td>\n",
       "      <td>0</td>\n",
       "      <td>0</td>\n",
       "      <td>0</td>\n",
       "      <td>0</td>\n",
       "      <td>0</td>\n",
       "      <td>0</td>\n",
       "      <td>0</td>\n",
       "      <td>0</td>\n",
       "      <td>0</td>\n",
       "      <td>1</td>\n",
       "    </tr>\n",
       "    <tr>\n",
       "      <th>625</th>\n",
       "      <td>20</td>\n",
       "      <td>69.630042</td>\n",
       "      <td>9500</td>\n",
       "      <td>6</td>\n",
       "      <td>5</td>\n",
       "      <td>1963</td>\n",
       "      <td>1963</td>\n",
       "      <td>247.0</td>\n",
       "      <td>609.0</td>\n",
       "      <td>0.0</td>\n",
       "      <td>...</td>\n",
       "      <td>0</td>\n",
       "      <td>1</td>\n",
       "      <td>0</td>\n",
       "      <td>0</td>\n",
       "      <td>0</td>\n",
       "      <td>0</td>\n",
       "      <td>0</td>\n",
       "      <td>0</td>\n",
       "      <td>0</td>\n",
       "      <td>1</td>\n",
       "    </tr>\n",
       "  </tbody>\n",
       "</table>\n",
       "<p>5 rows × 213 columns</p>\n",
       "</div>"
      ],
      "text/plain": [
       "      ms_subclass  lot_frontage  lot_area  overall_qual  overall_cond  \\\n",
       "Id                                                                      \n",
       "2658          190     69.000000      9142             6             8   \n",
       "2718           90     69.630042      9662             5             4   \n",
       "2414           60     58.000000     17104             7             5   \n",
       "1989           30     60.000000      8520             5             6   \n",
       "625            20     69.630042      9500             6             5   \n",
       "\n",
       "      year_built  year_remod/add  mas_vnr_area  bsmtfin_sf_1  bsmtfin_sf_2  \\\n",
       "Id                                                                           \n",
       "2658        1910            1950           0.0           0.0           0.0   \n",
       "2718        1977            1977           0.0           0.0           0.0   \n",
       "2414        2006            2006           0.0         554.0           0.0   \n",
       "1989        1923            2006           0.0           0.0           0.0   \n",
       "625         1963            1963         247.0         609.0           0.0   \n",
       "\n",
       "          ...        paved_drive_P  paved_drive_Y  sale_type_CWD  \\\n",
       "Id        ...                                                      \n",
       "2658      ...                    0              1              0   \n",
       "2718      ...                    0              1              0   \n",
       "2414      ...                    0              1              0   \n",
       "1989      ...                    0              0              0   \n",
       "625       ...                    0              1              0   \n",
       "\n",
       "      sale_type_Con  sale_type_ConLD  sale_type_ConLI  sale_type_ConLw  \\\n",
       "Id                                                                       \n",
       "2658              0                0                0                0   \n",
       "2718              0                0                0                0   \n",
       "2414              0                0                0                0   \n",
       "1989              0                0                0                0   \n",
       "625               0                0                0                0   \n",
       "\n",
       "      sale_type_New  sale_type_Oth  sale_type_WD   \n",
       "Id                                                 \n",
       "2658              0              0              1  \n",
       "2718              0              0              1  \n",
       "2414              1              0              0  \n",
       "1989              0              0              1  \n",
       "625               0              0              1  \n",
       "\n",
       "[5 rows x 213 columns]"
      ]
     },
     "execution_count": 33,
     "metadata": {},
     "output_type": "execute_result"
    }
   ],
   "source": [
    "kaggle = ames_features_test[ames_features.columns]\n",
    "kaggle.head()"
   ]
  },
  {
   "cell_type": "code",
   "execution_count": 27,
   "metadata": {},
   "outputs": [],
   "source": [
    "pred_gs_final = gs.predict(kaggle)"
   ]
  },
  {
   "cell_type": "code",
   "execution_count": 28,
   "metadata": {},
   "outputs": [],
   "source": [
    "final_gs_df = pd.DataFrame(pred_gs_final, index=kaggle.index, columns=['saleprice'])"
   ]
  },
  {
   "cell_type": "code",
   "execution_count": 29,
   "metadata": {},
   "outputs": [],
   "source": [
    "final_gs_df.sort_index(inplace=True)"
   ]
  },
  {
   "cell_type": "code",
   "execution_count": 30,
   "metadata": {},
   "outputs": [],
   "source": [
    "final_gs_df.to_csv('../data/gs_ridge_predictions2')"
   ]
  },
  {
   "cell_type": "markdown",
   "metadata": {},
   "source": [
    "#### Kaggle Score RMSE: 40012.65025"
   ]
  },
  {
   "cell_type": "code",
   "execution_count": null,
   "metadata": {},
   "outputs": [],
   "source": []
  }
 ],
 "metadata": {
  "kernelspec": {
   "display_name": "Python 3",
   "language": "python",
   "name": "python3"
  },
  "language_info": {
   "codemirror_mode": {
    "name": "ipython",
    "version": 3
   },
   "file_extension": ".py",
   "mimetype": "text/x-python",
   "name": "python",
   "nbconvert_exporter": "python",
   "pygments_lexer": "ipython3",
   "version": "3.6.5"
  }
 },
 "nbformat": 4,
 "nbformat_minor": 2
}
