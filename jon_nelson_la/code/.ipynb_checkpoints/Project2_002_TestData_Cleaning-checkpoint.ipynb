{
 "cells": [
  {
   "cell_type": "code",
   "execution_count": 1,
   "metadata": {},
   "outputs": [],
   "source": [
    "import numpy as np\n",
    "import scipy.stats as stats\n",
    "import seaborn as sns\n",
    "import matplotlib.pyplot as plt\n",
    "import pandas as pd\n",
    "import pickle\n",
    "import csv\n",
    "\n",
    "from sklearn import linear_model\n",
    "from sklearn.linear_model import LinearRegression, Ridge\n",
    "from sklearn.metrics import mean_squared_error, r2_score\n",
    "from sklearn.preprocessing import StandardScaler\n",
    "from sklearn.model_selection import train_test_split\n",
    "\n",
    "import statsmodels.api as sm\n",
    "import warnings\n",
    "warnings.filterwarnings('ignore')\n",
    "\n",
    "%config InlineBackend.figure_format = 'retina'\n",
    "%matplotlib inline\n",
    "np.random.seed(42)\n",
    "\n",
    "plt.style.use('fivethirtyeight')"
   ]
  },
  {
   "cell_type": "markdown",
   "metadata": {},
   "source": [
    "## Kaggle Test Data Cleaning\n",
    "\n",
    "### Step 1: Load in the provided Kaggle Testing Data\n",
    "\n",
    "- **test.csv** -- this data contains the test data for our model."
   ]
  },
  {
   "cell_type": "code",
   "execution_count": 2,
   "metadata": {},
   "outputs": [],
   "source": [
    "ames_df_test = pd.read_csv('../data/test.csv', index_col='Id')"
   ]
  },
  {
   "cell_type": "markdown",
   "metadata": {},
   "source": [
    "#### The Data Vacuum Clean (again)\n",
    "\n",
    "- In the next numerous amounts of cells I will be performing the same data cleaning that was performed on the Train dataset. \n",
    "    - Important thing to noe is that I will not be dropping any rows within the Test dataset\n",
    "    \n",
    "Overview:\n",
    "\n",
    "- dropping specific columns\n",
    "- Reviewing columns for NaN values\n",
    "- Updating columns data types to the correct types based on if the data is categorical or numeric (continuous)\n",
    "- Review numeric columns for empty cells and fill these cells with the average value from the dataset\n",
    "\n",
    "<details><summary>For an in depth review of the data clean click here:</summary>\n",
    "```\n",
    "Droping the following columns:\n",
    "\n",
    "- Alley : done\n",
    "- Pool QC : done\n",
    "- Fence : done\n",
    "- Misc Feature : done\n",
    "- misc_val : done\n",
    "- garage_yr_built : done\n",
    "- fireplace_qu: done\n",
    "- pool_area: done (only 8 records with data that is not 0)\n",
    "- 3ssn_porch : done\n",
    "- low_qual_fin_sf : done\n",
    "- garage_finish : done\n",
    "- garage_cond : done\n",
    "- bsmt_cond : done\n",
    "- exter_cond : done\n",
    "\n",
    "The following need to be reviewed for NaN to determine what needs to be inserted:\n",
    "\n",
    "- year_built      : change to object\n",
    "- year_remod/add  : change to object\n",
    "- ms_subclass     : change to object\n",
    "- overall_qual    : change to object\n",
    "- overall_cond    : change to object\n",
    "- full_bath       : change to object\n",
    "- half_bath       : change to object\n",
    "- bedroom_abvgr   : change to object\n",
    "- kitchen_abvgr   : change to object\n",
    "- kitchen_abvgr   : change to object\n",
    "- totrms_abvgrd   : change to object\n",
    "- fireplaces      : change to object\n",
    "- mo_sold         : change to object\n",
    "- yr_sold         : change to object\n",
    "- Lot Frontage    : mean of the column for all NaN\n",
    "- Mas Vnr Area    : mean of the column for all NaN\n",
    "- Bsmt Qual       : fill with NA No Basement       \n",
    "- Bsmt Cond       : fill with NA No Basement        \n",
    "- Bsmt Exposure   : fill with NA No Basement     \n",
    "- BsmtFin Type 1  : fill with NA No Basement\n",
    "- BsmtFin SF 1    : fill with 0\n",
    "- BsmtFin Type 2  : fill with NA No Basement\n",
    "- BsmtFin SF 2    : fill with 0\n",
    "- Bsmt Unf SF     : fill with 0\n",
    "- Total Bsmt SF   : fill with 0\n",
    "- Bsmt Full Bath  : fill with 0 and update type to object\n",
    "- Bsmt Half Bath  : fill with 0 and update type to object\n",
    "- Fireplace Qual  : dropping the column\n",
    "- Garage Type     : fill with NA No Garage\n",
    "- Garage Finish   : fill with NA No Garage\n",
    "- Garage Cars     : fill with 0 and update type to object\n",
    "- Garage Area     : fill with 0\n",
    "- Garage Qual     : fill with NA No Garage\n",
    "- Garage Cond     : fill with NA No Garage\n",
    "- misc_val        : drop column\n",
    "```\n",
    "</details>"
   ]
  },
  {
   "cell_type": "code",
   "execution_count": 3,
   "metadata": {},
   "outputs": [
    {
     "data": {
      "text/plain": [
       "879"
      ]
     },
     "execution_count": 3,
     "metadata": {},
     "output_type": "execute_result"
    }
   ],
   "source": [
    "len(ames_df_test)"
   ]
  },
  {
   "cell_type": "code",
   "execution_count": 4,
   "metadata": {},
   "outputs": [],
   "source": [
    "ames_df_test.drop('PID', 1, inplace=True)"
   ]
  },
  {
   "cell_type": "code",
   "execution_count": 5,
   "metadata": {},
   "outputs": [],
   "source": [
    "ames_df_test.columns = [x.lower().replace(' ', '_') for x in ames_df_test.columns]"
   ]
  },
  {
   "cell_type": "code",
   "execution_count": 6,
   "metadata": {},
   "outputs": [],
   "source": [
    "ames_df_test['bsmtfin_sf_1'].fillna(0, inplace=True)\n",
    "ames_df_test['bsmtfin_sf_2'].fillna(0, inplace=True)\n",
    "ames_df_test['bsmt_unf_sf'].fillna(0, inplace=True)\n",
    "ames_df_test['total_bsmt_sf'].fillna(0, inplace=True)\n",
    "ames_df_test['bsmt_full_bath'].fillna(0, inplace=True)\n",
    "ames_df_test['bsmt_half_bath'].fillna(0, inplace=True)\n",
    "ames_df_test['garage_cars'].fillna(0, inplace=True)\n",
    "ames_df_test['garage_area'].fillna(0, inplace=True)"
   ]
  },
  {
   "cell_type": "code",
   "execution_count": 7,
   "metadata": {},
   "outputs": [],
   "source": [
    "ames_df_test['bsmt_qual'].fillna('NA', inplace=True)\n",
    "ames_df_test['bsmt_cond'].fillna('NA', inplace=True)\n",
    "ames_df_test['bsmtfin_type_2'].fillna('NA', inplace=True)\n",
    "ames_df_test['bsmt_exposure'].fillna('NA', inplace=True)\n",
    "ames_df_test['bsmtfin_type_1'].fillna('NA', inplace=True)\n",
    "ames_df_test['garage_type'].fillna('NA', inplace=True)\n",
    "ames_df_test['garage_finish'].fillna('NA', inplace=True)\n",
    "ames_df_test['garage_qual'].fillna('NA', inplace=True)\n",
    "ames_df_test['garage_cond'].fillna('NA', inplace=True)"
   ]
  },
  {
   "cell_type": "code",
   "execution_count": 8,
   "metadata": {},
   "outputs": [],
   "source": [
    "ames_df_test['lot_frontage'].fillna(ames_df_test['lot_frontage'].mean(), inplace=True)\n",
    "ames_df_test['mas_vnr_area'].fillna(ames_df_test['mas_vnr_area'].mean(), inplace=True)"
   ]
  },
  {
   "cell_type": "code",
   "execution_count": 9,
   "metadata": {},
   "outputs": [],
   "source": [
    "ames_df_test.drop('alley', axis=1, inplace=True)\n",
    "ames_df_test.drop(['pool_qc', 'fence', 'misc_feature'], axis=1, inplace=True)\n",
    "ames_df_test.drop('fireplace_qu', axis=1, inplace =True)\n",
    "ames_df_test.drop('garage_yr_blt', axis=1, inplace=True)\n",
    "ames_df_test.drop('misc_val', axis=1, inplace=True)\n",
    "ames_df_test.drop('pool_area', axis=1, inplace=True)"
   ]
  },
  {
   "cell_type": "code",
   "execution_count": 10,
   "metadata": {},
   "outputs": [],
   "source": [
    "ames_df_test[[\n",
    "    'year_built', \n",
    "    'year_remod/add',\n",
    "    'bsmt_full_bath',\n",
    "    'bsmt_half_bath',\n",
    "    'full_bath',\n",
    "    'half_bath',\n",
    "    'bedroom_abvgr',\n",
    "    'kitchen_abvgr',\n",
    "    'totrms_abvgrd',\n",
    "    'fireplaces',\n",
    "    'mo_sold',\n",
    "    'yr_sold',   \n",
    "    'garage_cars',\n",
    "    'ms_subclass',\n",
    "    'overall_qual',\n",
    "    'overall_cond']] = ames_df_test[[\n",
    "    'year_built', \n",
    "    'year_remod/add',\n",
    "    'bsmt_full_bath',\n",
    "    'bsmt_half_bath',\n",
    "    'full_bath',\n",
    "    'half_bath',\n",
    "    'bedroom_abvgr',\n",
    "    'kitchen_abvgr',\n",
    "    'totrms_abvgrd',\n",
    "    'fireplaces',\n",
    "    'mo_sold',\n",
    "    'yr_sold',   \n",
    "    'garage_cars',\n",
    "    'ms_subclass',\n",
    "    'overall_qual',\n",
    "    'overall_cond']].astype(object)"
   ]
  },
  {
   "cell_type": "code",
   "execution_count": 11,
   "metadata": {},
   "outputs": [],
   "source": [
    "ames_df_test.drop('3ssn_porch', axis=1, inplace=True)\n",
    "ames_df_test.drop('low_qual_fin_sf', axis=1, inplace=True)\n",
    "ames_df_test.drop('garage_finish', axis=1, inplace=True)\n",
    "ames_df_test.drop('garage_cond', axis=1, inplace=True)\n",
    "ames_df_test.drop('bsmt_cond', axis=1, inplace=True)\n",
    "ames_df_test.drop('exter_cond', axis=1, inplace=True)"
   ]
  },
  {
   "cell_type": "code",
   "execution_count": 12,
   "metadata": {},
   "outputs": [],
   "source": [
    "ames_df_test.to_csv('../data/ames_iowa_data_test_data_clean')"
   ]
  },
  {
   "cell_type": "code",
   "execution_count": 13,
   "metadata": {},
   "outputs": [
    {
     "data": {
      "text/plain": [
       "879"
      ]
     },
     "execution_count": 13,
     "metadata": {},
     "output_type": "execute_result"
    }
   ],
   "source": [
    "len(ames_df_test)"
   ]
  }
 ],
 "metadata": {
  "kernelspec": {
   "display_name": "Python 3",
   "language": "python",
   "name": "python3"
  },
  "language_info": {
   "codemirror_mode": {
    "name": "ipython",
    "version": 3
   },
   "file_extension": ".py",
   "mimetype": "text/x-python",
   "name": "python",
   "nbconvert_exporter": "python",
   "pygments_lexer": "ipython3",
   "version": "3.6.5"
  }
 },
 "nbformat": 4,
 "nbformat_minor": 2
}
