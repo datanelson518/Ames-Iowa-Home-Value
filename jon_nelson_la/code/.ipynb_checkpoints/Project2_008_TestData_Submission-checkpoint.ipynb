{
 "cells": [
  {
   "cell_type": "code",
   "execution_count": 1,
   "metadata": {},
   "outputs": [],
   "source": [
    "import numpy as np\n",
    "import scipy.stats as stats\n",
    "import seaborn as sns\n",
    "import matplotlib.pyplot as plt\n",
    "import pandas as pd\n",
    "import pickle\n",
    "import csv\n",
    "\n",
    "from sklearn import linear_model\n",
    "from sklearn.linear_model import LinearRegression, Ridge\n",
    "from sklearn.metrics import mean_squared_error, r2_score\n",
    "from sklearn.preprocessing import StandardScaler\n",
    "from sklearn.model_selection import train_test_split\n",
    "\n",
    "import statsmodels.api as sm\n",
    "\n",
    "%config InlineBackend.figure_format = 'retina'\n",
    "%matplotlib inline\n",
    "np.random.seed(42)\n",
    "\n",
    "plt.style.use('fivethirtyeight')"
   ]
  },
  {
   "cell_type": "code",
   "execution_count": 2,
   "metadata": {},
   "outputs": [],
   "source": [
    "ames_df_test = pd.read_csv('../data/test.csv', index_col='Id')\n",
    "X_train_sc = pd.read_csv('../pickle/X_train_sc.csv', header=None)\n",
    "X_test_sc = pd.read_csv('../pickle/X_test_sc.csv', header=None)\n",
    "y_train = pd.read_csv('../data/y_train.csv', header=None)\n",
    "y_test = pd.read_csv('../data/y_test.csv', header=None)"
   ]
  },
  {
   "cell_type": "code",
   "execution_count": 3,
   "metadata": {},
   "outputs": [],
   "source": [
    "ss = pd.read_pickle('../pickle/scaler.pkl')\n",
    "rr = pd.read_pickle('../pickle/ridge_scaler.pkl')"
   ]
  },
  {
   "cell_type": "markdown",
   "metadata": {},
   "source": [
    "#### Kaggle Test Data Cleaning"
   ]
  },
  {
   "cell_type": "code",
   "execution_count": 4,
   "metadata": {},
   "outputs": [
    {
     "data": {
      "text/plain": [
       "879"
      ]
     },
     "execution_count": 4,
     "metadata": {},
     "output_type": "execute_result"
    }
   ],
   "source": [
    "len(ames_df_test)"
   ]
  },
  {
   "cell_type": "code",
   "execution_count": 5,
   "metadata": {},
   "outputs": [],
   "source": [
    "ames_df_test.drop('PID', 1, inplace=True)"
   ]
  },
  {
   "cell_type": "code",
   "execution_count": 6,
   "metadata": {},
   "outputs": [],
   "source": [
    "ames_df_test.columns = [x.lower().replace(' ', '_') for x in ames_df_test.columns]"
   ]
  },
  {
   "cell_type": "code",
   "execution_count": 7,
   "metadata": {},
   "outputs": [],
   "source": [
    "ames_df_test['bsmtfin_sf_1'].fillna(0, inplace=True)\n",
    "ames_df_test['bsmtfin_sf_2'].fillna(0, inplace=True)\n",
    "ames_df_test['bsmt_unf_sf'].fillna(0, inplace=True)\n",
    "ames_df_test['total_bsmt_sf'].fillna(0, inplace=True)\n",
    "ames_df_test['bsmt_full_bath'].fillna(0, inplace=True)\n",
    "ames_df_test['bsmt_half_bath'].fillna(0, inplace=True)\n",
    "ames_df_test['garage_cars'].fillna(0, inplace=True)\n",
    "ames_df_test['garage_area'].fillna(0, inplace=True)"
   ]
  },
  {
   "cell_type": "code",
   "execution_count": 8,
   "metadata": {},
   "outputs": [],
   "source": [
    "ames_df_test['bsmt_qual'].fillna('NA', inplace=True)\n",
    "ames_df_test['bsmt_cond'].fillna('NA', inplace=True)\n",
    "ames_df_test['bsmtfin_type_2'].fillna('NA', inplace=True)\n",
    "ames_df_test['bsmt_exposure'].fillna('NA', inplace=True)\n",
    "ames_df_test['bsmtfin_type_1'].fillna('NA', inplace=True)\n",
    "ames_df_test['garage_type'].fillna('NA', inplace=True)\n",
    "ames_df_test['garage_finish'].fillna('NA', inplace=True)\n",
    "ames_df_test['garage_qual'].fillna('NA', inplace=True)\n",
    "ames_df_test['garage_cond'].fillna('NA', inplace=True)"
   ]
  },
  {
   "cell_type": "code",
   "execution_count": 9,
   "metadata": {},
   "outputs": [],
   "source": [
    "ames_df_test['lot_frontage'].fillna(ames_df_test['lot_frontage'].mean(), inplace=True)\n",
    "ames_df_test['mas_vnr_area'].fillna(ames_df_test['mas_vnr_area'].mean(), inplace=True)"
   ]
  },
  {
   "cell_type": "code",
   "execution_count": 10,
   "metadata": {},
   "outputs": [],
   "source": [
    "ames_df_test.drop('alley', axis=1, inplace=True)\n",
    "ames_df_test.drop(['pool_qc', 'fence', 'misc_feature'], axis=1, inplace=True)\n",
    "ames_df_test.drop('fireplace_qu', axis=1, inplace =True)\n",
    "ames_df_test.drop('garage_yr_blt', axis=1, inplace=True)\n",
    "ames_df_test.drop('misc_val', axis=1, inplace=True)\n",
    "ames_df_test.drop('pool_area', axis=1, inplace=True)"
   ]
  },
  {
   "cell_type": "code",
   "execution_count": 11,
   "metadata": {},
   "outputs": [],
   "source": [
    "ames_df_test[[\n",
    "    'year_built', \n",
    "    'year_remod/add',\n",
    "    'bsmt_full_bath',\n",
    "    'bsmt_half_bath',\n",
    "    'full_bath',\n",
    "    'half_bath',\n",
    "    'bedroom_abvgr',\n",
    "    'kitchen_abvgr',\n",
    "    'totrms_abvgrd',\n",
    "    'fireplaces',\n",
    "    'mo_sold',\n",
    "    'yr_sold',   \n",
    "    'garage_cars',\n",
    "    'ms_subclass',\n",
    "    'overall_qual',\n",
    "    'overall_cond']] = ames_df_test[[\n",
    "    'year_built', \n",
    "    'year_remod/add',\n",
    "    'bsmt_full_bath',\n",
    "    'bsmt_half_bath',\n",
    "    'full_bath',\n",
    "    'half_bath',\n",
    "    'bedroom_abvgr',\n",
    "    'kitchen_abvgr',\n",
    "    'totrms_abvgrd',\n",
    "    'fireplaces',\n",
    "    'mo_sold',\n",
    "    'yr_sold',   \n",
    "    'garage_cars',\n",
    "    'ms_subclass',\n",
    "    'overall_qual',\n",
    "    'overall_cond']].astype(object)"
   ]
  },
  {
   "cell_type": "code",
   "execution_count": 12,
   "metadata": {},
   "outputs": [],
   "source": [
    "ames_df_test.drop('3ssn_porch', axis=1, inplace=True)"
   ]
  },
  {
   "cell_type": "code",
   "execution_count": 13,
   "metadata": {},
   "outputs": [],
   "source": [
    "ames_df_test.drop('low_qual_fin_sf', axis=1, inplace=True)"
   ]
  },
  {
   "cell_type": "code",
   "execution_count": 14,
   "metadata": {},
   "outputs": [],
   "source": [
    "ames_df_test.drop('garage_finish', axis=1, inplace=True)"
   ]
  },
  {
   "cell_type": "code",
   "execution_count": 15,
   "metadata": {},
   "outputs": [],
   "source": [
    "ames_df_test.drop('garage_cond', axis=1, inplace=True)"
   ]
  },
  {
   "cell_type": "code",
   "execution_count": 16,
   "metadata": {},
   "outputs": [],
   "source": [
    "ames_df_test.drop('bsmt_cond', axis=1, inplace=True)"
   ]
  },
  {
   "cell_type": "code",
   "execution_count": 17,
   "metadata": {},
   "outputs": [],
   "source": [
    "ames_df_test.drop('exter_cond', axis=1, inplace=True)"
   ]
  },
  {
   "cell_type": "code",
   "execution_count": null,
   "metadata": {},
   "outputs": [],
   "source": []
  },
  {
   "cell_type": "code",
   "execution_count": null,
   "metadata": {},
   "outputs": [],
   "source": []
  },
  {
   "cell_type": "code",
   "execution_count": null,
   "metadata": {},
   "outputs": [],
   "source": []
  },
  {
   "cell_type": "code",
   "execution_count": 18,
   "metadata": {},
   "outputs": [],
   "source": [
    "ames_df_test.to_csv('../data/ames_iowa_data_test_data_clean')"
   ]
  },
  {
   "cell_type": "code",
   "execution_count": 19,
   "metadata": {},
   "outputs": [
    {
     "data": {
      "text/plain": [
       "879"
      ]
     },
     "execution_count": 19,
     "metadata": {},
     "output_type": "execute_result"
    }
   ],
   "source": [
    "len(ames_df_test)"
   ]
  },
  {
   "cell_type": "code",
   "execution_count": 20,
   "metadata": {},
   "outputs": [],
   "source": [
    "ames_df_test_object = ames_df_test.select_dtypes(exclude=['int64', 'float64'])\n",
    "ames_df_numeric_test = ames_df_test.select_dtypes(exclude='object')\n",
    "ames_df_object_dummies_test = pd.get_dummies(ames_df_test_object, drop_first=True)\n",
    "ames_features_test = pd.concat([ames_df_numeric_test, ames_df_object_dummies_test], axis=1)"
   ]
  },
  {
   "cell_type": "code",
   "execution_count": 21,
   "metadata": {},
   "outputs": [],
   "source": [
    "ames_df = pd.read_csv('../data/ames_iowa_data_clean', index_col='Id')\n",
    "ames_df_objects = ames_df.select_dtypes(exclude=['int64', 'float64'])\n",
    "ames_df_numeric = ames_df.select_dtypes(exclude='object')\n",
    "ames_df_object_dummies = pd.get_dummies(ames_df_objects, drop_first=True)\n",
    "ames_features = pd.concat([ames_df_numeric, ames_df_object_dummies], axis=1)"
   ]
  },
  {
   "cell_type": "code",
   "execution_count": 22,
   "metadata": {},
   "outputs": [
    {
     "data": {
      "text/plain": [
       "879"
      ]
     },
     "execution_count": 22,
     "metadata": {},
     "output_type": "execute_result"
    }
   ],
   "source": [
    "len(ames_features_test)"
   ]
  },
  {
   "cell_type": "code",
   "execution_count": 23,
   "metadata": {},
   "outputs": [],
   "source": [
    "# ## From other standard scaling notebook make this better by pickling\n",
    "# X = ames_features.drop('saleprice', axis=1)\n",
    "# y = ames_features.saleprice\n",
    "# X_train, X_test, y_train, y_test = train_test_split(X, y)\n",
    "# ss = StandardScaler()\n",
    "# X_train_sc = ss.fit_transform(X_train)\n",
    "# X_test_sc = ss.transform(X_test)\n",
    "# lr = LinearRegression()\n",
    "# lr.fit(X_train_sc, y_train)"
   ]
  },
  {
   "cell_type": "code",
   "execution_count": 24,
   "metadata": {},
   "outputs": [],
   "source": [
    "# lr.score(X_train_sc, y_train), lr.score(X_test_sc, y_test)"
   ]
  },
  {
   "cell_type": "code",
   "execution_count": 25,
   "metadata": {},
   "outputs": [],
   "source": [
    "# rr = Ridge(alpha=0.1,max_iter=1e5, random_state = 42)\n",
    "# rr.fit(X_train_sc, y_train)\n",
    "# rr.score(X_train_sc, y_train), rr.score(X_test_sc, y_test)"
   ]
  },
  {
   "cell_type": "code",
   "execution_count": 26,
   "metadata": {},
   "outputs": [],
   "source": [
    "# pred_test2 = rr.predict(X_test_sc)"
   ]
  },
  {
   "cell_type": "code",
   "execution_count": null,
   "metadata": {},
   "outputs": [],
   "source": []
  },
  {
   "cell_type": "code",
   "execution_count": 27,
   "metadata": {},
   "outputs": [
    {
     "name": "stdout",
     "output_type": "stream",
     "text": [
      "<class 'pandas.core.frame.DataFrame'>\n",
      "Int64Index: 879 entries, 2658 to 1939\n",
      "Columns: 435 entries, lot_frontage to sale_type_WD \n",
      "dtypes: float64(7), int64(8), uint8(420)\n",
      "memory usage: 470.4 KB\n"
     ]
    }
   ],
   "source": [
    "ames_features_test.info()"
   ]
  },
  {
   "cell_type": "code",
   "execution_count": 28,
   "metadata": {},
   "outputs": [
    {
     "name": "stdout",
     "output_type": "stream",
     "text": [
      "<class 'pandas.core.frame.DataFrame'>\n",
      "Int64Index: 2025 entries, 109 to 10\n",
      "Columns: 214 entries, ms_subclass to sale_type_WD \n",
      "dtypes: float64(10), int64(22), uint8(182)\n",
      "memory usage: 882.0 KB\n"
     ]
    }
   ],
   "source": [
    "ames_features.info()"
   ]
  },
  {
   "cell_type": "code",
   "execution_count": 29,
   "metadata": {
    "scrolled": true
   },
   "outputs": [],
   "source": [
    "ames_features.drop('saleprice', axis=1, inplace=True)"
   ]
  },
  {
   "cell_type": "code",
   "execution_count": 30,
   "metadata": {},
   "outputs": [
    {
     "ename": "KeyError",
     "evalue": "\"Index(['ms_subclass', 'overall_qual', 'overall_cond', 'year_built',\\n       'year_remod/add', 'bsmt_full_bath', 'bsmt_half_bath', 'full_bath',\\n       'half_bath', 'bedroom_abvgr', 'kitchen_abvgr', 'totrms_abvgrd',\\n       'fireplaces', 'garage_cars', 'mo_sold', 'yr_sold', 'ms_zoning_C (all)',\\n       'utilities_NoSeWa', 'neighborhood_GrnHill', 'neighborhood_Landmrk',\\n       'condition_2_Feedr', 'condition_2_RRAe', 'condition_2_RRAn',\\n       'condition_2_RRNn', 'roof_matl_CompShg', 'roof_matl_Membran',\\n       'exterior_1st_CBlock', 'exterior_1st_ImStucc', 'exterior_1st_Stone',\\n       'exterior_2nd_Stone', 'heating_OthW', 'heating_Wall', 'heating_qc_Po',\\n       'electrical_Mix', 'functional_Sal', 'functional_Sev', 'garage_qual_Fa'],\\n      dtype='object') not in index\"",
     "output_type": "error",
     "traceback": [
      "\u001b[0;31m---------------------------------------------------------------------------\u001b[0m",
      "\u001b[0;31mKeyError\u001b[0m                                  Traceback (most recent call last)",
      "\u001b[0;32m<ipython-input-30-3ae1a10f1ead>\u001b[0m in \u001b[0;36m<module>\u001b[0;34m()\u001b[0m\n\u001b[0;32m----> 1\u001b[0;31m \u001b[0mames_features_test\u001b[0m\u001b[0;34m[\u001b[0m\u001b[0mames_features\u001b[0m\u001b[0;34m.\u001b[0m\u001b[0mcolumns\u001b[0m\u001b[0;34m]\u001b[0m\u001b[0;34m\u001b[0m\u001b[0m\n\u001b[0m",
      "\u001b[0;32m~/anaconda3/lib/python3.6/site-packages/pandas/core/frame.py\u001b[0m in \u001b[0;36m__getitem__\u001b[0;34m(self, key)\u001b[0m\n\u001b[1;32m   2677\u001b[0m         \u001b[0;32mif\u001b[0m \u001b[0misinstance\u001b[0m\u001b[0;34m(\u001b[0m\u001b[0mkey\u001b[0m\u001b[0;34m,\u001b[0m \u001b[0;34m(\u001b[0m\u001b[0mSeries\u001b[0m\u001b[0;34m,\u001b[0m \u001b[0mnp\u001b[0m\u001b[0;34m.\u001b[0m\u001b[0mndarray\u001b[0m\u001b[0;34m,\u001b[0m \u001b[0mIndex\u001b[0m\u001b[0;34m,\u001b[0m \u001b[0mlist\u001b[0m\u001b[0;34m)\u001b[0m\u001b[0;34m)\u001b[0m\u001b[0;34m:\u001b[0m\u001b[0;34m\u001b[0m\u001b[0m\n\u001b[1;32m   2678\u001b[0m             \u001b[0;31m# either boolean or fancy integer index\u001b[0m\u001b[0;34m\u001b[0m\u001b[0;34m\u001b[0m\u001b[0m\n\u001b[0;32m-> 2679\u001b[0;31m             \u001b[0;32mreturn\u001b[0m \u001b[0mself\u001b[0m\u001b[0;34m.\u001b[0m\u001b[0m_getitem_array\u001b[0m\u001b[0;34m(\u001b[0m\u001b[0mkey\u001b[0m\u001b[0;34m)\u001b[0m\u001b[0;34m\u001b[0m\u001b[0m\n\u001b[0m\u001b[1;32m   2680\u001b[0m         \u001b[0;32melif\u001b[0m \u001b[0misinstance\u001b[0m\u001b[0;34m(\u001b[0m\u001b[0mkey\u001b[0m\u001b[0;34m,\u001b[0m \u001b[0mDataFrame\u001b[0m\u001b[0;34m)\u001b[0m\u001b[0;34m:\u001b[0m\u001b[0;34m\u001b[0m\u001b[0m\n\u001b[1;32m   2681\u001b[0m             \u001b[0;32mreturn\u001b[0m \u001b[0mself\u001b[0m\u001b[0;34m.\u001b[0m\u001b[0m_getitem_frame\u001b[0m\u001b[0;34m(\u001b[0m\u001b[0mkey\u001b[0m\u001b[0;34m)\u001b[0m\u001b[0;34m\u001b[0m\u001b[0m\n",
      "\u001b[0;32m~/anaconda3/lib/python3.6/site-packages/pandas/core/frame.py\u001b[0m in \u001b[0;36m_getitem_array\u001b[0;34m(self, key)\u001b[0m\n\u001b[1;32m   2721\u001b[0m             \u001b[0;32mreturn\u001b[0m \u001b[0mself\u001b[0m\u001b[0;34m.\u001b[0m\u001b[0m_take\u001b[0m\u001b[0;34m(\u001b[0m\u001b[0mindexer\u001b[0m\u001b[0;34m,\u001b[0m \u001b[0maxis\u001b[0m\u001b[0;34m=\u001b[0m\u001b[0;36m0\u001b[0m\u001b[0;34m)\u001b[0m\u001b[0;34m\u001b[0m\u001b[0m\n\u001b[1;32m   2722\u001b[0m         \u001b[0;32melse\u001b[0m\u001b[0;34m:\u001b[0m\u001b[0;34m\u001b[0m\u001b[0m\n\u001b[0;32m-> 2723\u001b[0;31m             \u001b[0mindexer\u001b[0m \u001b[0;34m=\u001b[0m \u001b[0mself\u001b[0m\u001b[0;34m.\u001b[0m\u001b[0mloc\u001b[0m\u001b[0;34m.\u001b[0m\u001b[0m_convert_to_indexer\u001b[0m\u001b[0;34m(\u001b[0m\u001b[0mkey\u001b[0m\u001b[0;34m,\u001b[0m \u001b[0maxis\u001b[0m\u001b[0;34m=\u001b[0m\u001b[0;36m1\u001b[0m\u001b[0;34m)\u001b[0m\u001b[0;34m\u001b[0m\u001b[0m\n\u001b[0m\u001b[1;32m   2724\u001b[0m             \u001b[0;32mreturn\u001b[0m \u001b[0mself\u001b[0m\u001b[0;34m.\u001b[0m\u001b[0m_take\u001b[0m\u001b[0;34m(\u001b[0m\u001b[0mindexer\u001b[0m\u001b[0;34m,\u001b[0m \u001b[0maxis\u001b[0m\u001b[0;34m=\u001b[0m\u001b[0;36m1\u001b[0m\u001b[0;34m)\u001b[0m\u001b[0;34m\u001b[0m\u001b[0m\n\u001b[1;32m   2725\u001b[0m \u001b[0;34m\u001b[0m\u001b[0m\n",
      "\u001b[0;32m~/anaconda3/lib/python3.6/site-packages/pandas/core/indexing.py\u001b[0m in \u001b[0;36m_convert_to_indexer\u001b[0;34m(self, obj, axis, is_setter)\u001b[0m\n\u001b[1;32m   1325\u001b[0m                 \u001b[0;32mif\u001b[0m \u001b[0mmask\u001b[0m\u001b[0;34m.\u001b[0m\u001b[0many\u001b[0m\u001b[0;34m(\u001b[0m\u001b[0;34m)\u001b[0m\u001b[0;34m:\u001b[0m\u001b[0;34m\u001b[0m\u001b[0m\n\u001b[1;32m   1326\u001b[0m                     raise KeyError('{mask} not in index'\n\u001b[0;32m-> 1327\u001b[0;31m                                    .format(mask=objarr[mask]))\n\u001b[0m\u001b[1;32m   1328\u001b[0m \u001b[0;34m\u001b[0m\u001b[0m\n\u001b[1;32m   1329\u001b[0m                 \u001b[0;32mreturn\u001b[0m \u001b[0mcom\u001b[0m\u001b[0;34m.\u001b[0m\u001b[0m_values_from_object\u001b[0m\u001b[0;34m(\u001b[0m\u001b[0mindexer\u001b[0m\u001b[0;34m)\u001b[0m\u001b[0;34m\u001b[0m\u001b[0m\n",
      "\u001b[0;31mKeyError\u001b[0m: \"Index(['ms_subclass', 'overall_qual', 'overall_cond', 'year_built',\\n       'year_remod/add', 'bsmt_full_bath', 'bsmt_half_bath', 'full_bath',\\n       'half_bath', 'bedroom_abvgr', 'kitchen_abvgr', 'totrms_abvgrd',\\n       'fireplaces', 'garage_cars', 'mo_sold', 'yr_sold', 'ms_zoning_C (all)',\\n       'utilities_NoSeWa', 'neighborhood_GrnHill', 'neighborhood_Landmrk',\\n       'condition_2_Feedr', 'condition_2_RRAe', 'condition_2_RRAn',\\n       'condition_2_RRNn', 'roof_matl_CompShg', 'roof_matl_Membran',\\n       'exterior_1st_CBlock', 'exterior_1st_ImStucc', 'exterior_1st_Stone',\\n       'exterior_2nd_Stone', 'heating_OthW', 'heating_Wall', 'heating_qc_Po',\\n       'electrical_Mix', 'functional_Sal', 'functional_Sev', 'garage_qual_Fa'],\\n      dtype='object') not in index\""
     ]
    }
   ],
   "source": [
    "ames_features_test[ames_features.columns]"
   ]
  },
  {
   "cell_type": "code",
   "execution_count": 31,
   "metadata": {},
   "outputs": [],
   "source": [
    "diff_cols = set(ames_features.columns).difference(ames_features_test.columns)"
   ]
  },
  {
   "cell_type": "code",
   "execution_count": 32,
   "metadata": {},
   "outputs": [],
   "source": [
    "for col in diff_cols:\n",
    "    ames_features_test[col]=0"
   ]
  },
  {
   "cell_type": "code",
   "execution_count": 33,
   "metadata": {},
   "outputs": [],
   "source": [
    "kaggle = ames_features_test[ames_features.columns]"
   ]
  },
  {
   "cell_type": "code",
   "execution_count": 34,
   "metadata": {},
   "outputs": [
    {
     "data": {
      "text/plain": [
       "StandardScaler(copy=True, with_mean=True, with_std=True)"
      ]
     },
     "execution_count": 34,
     "metadata": {},
     "output_type": "execute_result"
    }
   ],
   "source": [
    "ss.fit(kaggle)"
   ]
  },
  {
   "cell_type": "code",
   "execution_count": 35,
   "metadata": {},
   "outputs": [],
   "source": [
    "kaggle_sc = ss.transform(kaggle)"
   ]
  },
  {
   "cell_type": "code",
   "execution_count": 36,
   "metadata": {},
   "outputs": [
    {
     "data": {
      "text/plain": [
       "(2025, 213)"
      ]
     },
     "execution_count": 36,
     "metadata": {},
     "output_type": "execute_result"
    }
   ],
   "source": [
    "ames_features.shape"
   ]
  },
  {
   "cell_type": "code",
   "execution_count": 37,
   "metadata": {},
   "outputs": [
    {
     "data": {
      "text/plain": [
       "(879, 213)"
      ]
     },
     "execution_count": 37,
     "metadata": {},
     "output_type": "execute_result"
    }
   ],
   "source": [
    "kaggle_sc.shape"
   ]
  },
  {
   "cell_type": "code",
   "execution_count": 38,
   "metadata": {},
   "outputs": [
    {
     "ename": "ValueError",
     "evalue": "shapes (879,213) and (229,1) not aligned: 213 (dim 1) != 229 (dim 0)",
     "output_type": "error",
     "traceback": [
      "\u001b[0;31m---------------------------------------------------------------------------\u001b[0m",
      "\u001b[0;31mValueError\u001b[0m                                Traceback (most recent call last)",
      "\u001b[0;32m<ipython-input-38-e3fae521f70a>\u001b[0m in \u001b[0;36m<module>\u001b[0;34m()\u001b[0m\n\u001b[0;32m----> 1\u001b[0;31m \u001b[0mpred_ridge\u001b[0m \u001b[0;34m=\u001b[0m \u001b[0mrr\u001b[0m\u001b[0;34m.\u001b[0m\u001b[0mpredict\u001b[0m\u001b[0;34m(\u001b[0m\u001b[0mkaggle_sc\u001b[0m\u001b[0;34m)\u001b[0m\u001b[0;34m\u001b[0m\u001b[0m\n\u001b[0m",
      "\u001b[0;32m~/anaconda3/lib/python3.6/site-packages/sklearn/linear_model/base.py\u001b[0m in \u001b[0;36mpredict\u001b[0;34m(self, X)\u001b[0m\n\u001b[1;32m    254\u001b[0m             \u001b[0mReturns\u001b[0m \u001b[0mpredicted\u001b[0m \u001b[0mvalues\u001b[0m\u001b[0;34m.\u001b[0m\u001b[0;34m\u001b[0m\u001b[0m\n\u001b[1;32m    255\u001b[0m         \"\"\"\n\u001b[0;32m--> 256\u001b[0;31m         \u001b[0;32mreturn\u001b[0m \u001b[0mself\u001b[0m\u001b[0;34m.\u001b[0m\u001b[0m_decision_function\u001b[0m\u001b[0;34m(\u001b[0m\u001b[0mX\u001b[0m\u001b[0;34m)\u001b[0m\u001b[0;34m\u001b[0m\u001b[0m\n\u001b[0m\u001b[1;32m    257\u001b[0m \u001b[0;34m\u001b[0m\u001b[0m\n\u001b[1;32m    258\u001b[0m     \u001b[0m_preprocess_data\u001b[0m \u001b[0;34m=\u001b[0m \u001b[0mstaticmethod\u001b[0m\u001b[0;34m(\u001b[0m\u001b[0m_preprocess_data\u001b[0m\u001b[0;34m)\u001b[0m\u001b[0;34m\u001b[0m\u001b[0m\n",
      "\u001b[0;32m~/anaconda3/lib/python3.6/site-packages/sklearn/linear_model/base.py\u001b[0m in \u001b[0;36m_decision_function\u001b[0;34m(self, X)\u001b[0m\n\u001b[1;32m    239\u001b[0m         \u001b[0mX\u001b[0m \u001b[0;34m=\u001b[0m \u001b[0mcheck_array\u001b[0m\u001b[0;34m(\u001b[0m\u001b[0mX\u001b[0m\u001b[0;34m,\u001b[0m \u001b[0maccept_sparse\u001b[0m\u001b[0;34m=\u001b[0m\u001b[0;34m[\u001b[0m\u001b[0;34m'csr'\u001b[0m\u001b[0;34m,\u001b[0m \u001b[0;34m'csc'\u001b[0m\u001b[0;34m,\u001b[0m \u001b[0;34m'coo'\u001b[0m\u001b[0;34m]\u001b[0m\u001b[0;34m)\u001b[0m\u001b[0;34m\u001b[0m\u001b[0m\n\u001b[1;32m    240\u001b[0m         return safe_sparse_dot(X, self.coef_.T,\n\u001b[0;32m--> 241\u001b[0;31m                                dense_output=True) + self.intercept_\n\u001b[0m\u001b[1;32m    242\u001b[0m \u001b[0;34m\u001b[0m\u001b[0m\n\u001b[1;32m    243\u001b[0m     \u001b[0;32mdef\u001b[0m \u001b[0mpredict\u001b[0m\u001b[0;34m(\u001b[0m\u001b[0mself\u001b[0m\u001b[0;34m,\u001b[0m \u001b[0mX\u001b[0m\u001b[0;34m)\u001b[0m\u001b[0;34m:\u001b[0m\u001b[0;34m\u001b[0m\u001b[0m\n",
      "\u001b[0;32m~/anaconda3/lib/python3.6/site-packages/sklearn/utils/extmath.py\u001b[0m in \u001b[0;36msafe_sparse_dot\u001b[0;34m(a, b, dense_output)\u001b[0m\n\u001b[1;32m    138\u001b[0m         \u001b[0;32mreturn\u001b[0m \u001b[0mret\u001b[0m\u001b[0;34m\u001b[0m\u001b[0m\n\u001b[1;32m    139\u001b[0m     \u001b[0;32melse\u001b[0m\u001b[0;34m:\u001b[0m\u001b[0;34m\u001b[0m\u001b[0m\n\u001b[0;32m--> 140\u001b[0;31m         \u001b[0;32mreturn\u001b[0m \u001b[0mnp\u001b[0m\u001b[0;34m.\u001b[0m\u001b[0mdot\u001b[0m\u001b[0;34m(\u001b[0m\u001b[0ma\u001b[0m\u001b[0;34m,\u001b[0m \u001b[0mb\u001b[0m\u001b[0;34m)\u001b[0m\u001b[0;34m\u001b[0m\u001b[0m\n\u001b[0m\u001b[1;32m    141\u001b[0m \u001b[0;34m\u001b[0m\u001b[0m\n\u001b[1;32m    142\u001b[0m \u001b[0;34m\u001b[0m\u001b[0m\n",
      "\u001b[0;31mValueError\u001b[0m: shapes (879,213) and (229,1) not aligned: 213 (dim 1) != 229 (dim 0)"
     ]
    }
   ],
   "source": [
    "pred_ridge = rr.predict(kaggle_sc)"
   ]
  },
  {
   "cell_type": "code",
   "execution_count": null,
   "metadata": {},
   "outputs": [],
   "source": [
    "len(pred_ridge)"
   ]
  },
  {
   "cell_type": "code",
   "execution_count": null,
   "metadata": {
    "scrolled": true
   },
   "outputs": [],
   "source": [
    "final_ridge_df = pd.DataFrame(pred_ridge, index=kaggle.index, columns=['saleprice'])"
   ]
  },
  {
   "cell_type": "code",
   "execution_count": null,
   "metadata": {},
   "outputs": [],
   "source": [
    "final_ridge_df.sort_index(inplace=True)"
   ]
  },
  {
   "cell_type": "code",
   "execution_count": null,
   "metadata": {},
   "outputs": [],
   "source": [
    "len(final_ridge_df)"
   ]
  },
  {
   "cell_type": "code",
   "execution_count": null,
   "metadata": {},
   "outputs": [],
   "source": [
    "final_ridge_df.to_csv('../data/ridge_predictions4')"
   ]
  },
  {
   "cell_type": "code",
   "execution_count": null,
   "metadata": {},
   "outputs": [],
   "source": []
  },
  {
   "cell_type": "code",
   "execution_count": null,
   "metadata": {},
   "outputs": [],
   "source": []
  },
  {
   "cell_type": "markdown",
   "metadata": {},
   "source": [
    "##### Droping the following columns:\n",
    "\n",
    "- Alley : done\n",
    "- Pool QC : done\n",
    "- Fence : done\n",
    "- Misc Feature : done\n",
    "- misc_val : done\n",
    "- garage_yr_built : done\n",
    "- fireplace_qu: done\n",
    "- pool_area: done (only 8 records with data that is not 0)\n",
    "\n",
    "##### The following need to be reviewed for NaN to determine what needs to be inserted:\n",
    "\n",
    "- year_built      : change to object\n",
    "- year_remod/add  : change to object\n",
    "- ms_subclass     : change to object\n",
    "- overall_qual    : change to object\n",
    "- overall_cond    : change to object\n",
    "- full_bath       : change to object\n",
    "- half_bath       : change to object\n",
    "- bedroom_abvgr   : change to object\n",
    "- kitchen_abvgr   : change to object\n",
    "- kitchen_abvgr   : change to object\n",
    "- totrms_abvgrd   : change to object\n",
    "- fireplaces      : change to object\n",
    "- mo_sold         : change to object\n",
    "- yr_sold         : change to object\n",
    "- Lot Frontage    : mean of the column for all NaN\n",
    "- Mas Vnr Type    : dropping NaN rows 1051-1029\n",
    "- Mas Vnr Area    : dropping NaN rows 1051-1029\n",
    "- Bsmt Qual       : fill with NA No Basement       \n",
    "- Bsmt Cond       : fill with NA No Basement        \n",
    "- Bsmt Exposure   : fill with NA No Basement     \n",
    "- BsmtFin Type 1  : fill with NA No Basement\n",
    "- BsmtFin SF 1    : fill with 0\n",
    "- BsmtFin Type 2  : fill with NA No Basement\n",
    "- BsmtFin SF 2    : fill with 0\n",
    "- Bsmt Unf SF     : fill with 0\n",
    "- Total Bsmt SF   : fill with 0\n",
    "- Bsmt Full Bath  : fill with 0 and update type to object\n",
    "- Bsmt Half Bath  : fill with 0 and update type to object\n",
    "- Fireplace Qual  : dropping the column\n",
    "- Garage Type     : fill with NA No Garage\n",
    "- Garage Yr Blt   : dropping column\n",
    "- Garage Finish   : fill with NA No Garage\n",
    "- Garage Cars     : fill with 0 and update type to object\n",
    "- Garage Area     : fill with 0\n",
    "- Garage Qual     : fill with NA No Garage\n",
    "- Garage Cond     : fill with NA No Garage\n",
    "- misc_val        : drop column\n",
    "\n",
    "##### Next, review scatter plot and determine outliers and drop these records\n",
    "- Removing two max outliers related to Lot Area."
   ]
  },
  {
   "cell_type": "code",
   "execution_count": null,
   "metadata": {},
   "outputs": [],
   "source": []
  },
  {
   "cell_type": "code",
   "execution_count": null,
   "metadata": {},
   "outputs": [],
   "source": []
  },
  {
   "cell_type": "code",
   "execution_count": null,
   "metadata": {},
   "outputs": [],
   "source": []
  },
  {
   "cell_type": "code",
   "execution_count": null,
   "metadata": {},
   "outputs": [],
   "source": []
  },
  {
   "cell_type": "code",
   "execution_count": null,
   "metadata": {},
   "outputs": [],
   "source": []
  },
  {
   "cell_type": "code",
   "execution_count": null,
   "metadata": {},
   "outputs": [],
   "source": []
  }
 ],
 "metadata": {
  "kernelspec": {
   "display_name": "Python 3",
   "language": "python",
   "name": "python3"
  },
  "language_info": {
   "codemirror_mode": {
    "name": "ipython",
    "version": 3
   },
   "file_extension": ".py",
   "mimetype": "text/x-python",
   "name": "python",
   "nbconvert_exporter": "python",
   "pygments_lexer": "ipython3",
   "version": "3.6.5"
  }
 },
 "nbformat": 4,
 "nbformat_minor": 2
}
